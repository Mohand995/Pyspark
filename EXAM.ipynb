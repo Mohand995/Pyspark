{
 "cells": [
  {
   "cell_type": "code",
   "execution_count": 3,
   "id": "2281e4a5",
   "metadata": {},
   "outputs": [],
   "source": [
    "from pyspark.sql import SparkSession\n",
    "spark=SparkSession.builder.getOrCreate()"
   ]
  },
  {
   "cell_type": "markdown",
   "id": "0b4de115",
   "metadata": {},
   "source": [
    "# Regression task"
   ]
  },
  {
   "cell_type": "code",
   "execution_count": 4,
   "id": "59149952",
   "metadata": {},
   "outputs": [
    {
     "name": "stderr",
     "output_type": "stream",
     "text": [
      "                                                                                \r"
     ]
    }
   ],
   "source": [
    "data=spark.read.parquet('sf-airbnb-clean.parquet/')"
   ]
  },
  {
   "cell_type": "code",
   "execution_count": 5,
   "id": "5dd290fe",
   "metadata": {},
   "outputs": [],
   "source": [
    "from pyspark.ml.feature import OneHotEncoder,StringIndexer,VectorAssembler"
   ]
  },
  {
   "cell_type": "code",
   "execution_count": 6,
   "id": "222e4d48",
   "metadata": {},
   "outputs": [],
   "source": [
    "train,test= data.randomSplit([0.8,0.2],42)"
   ]
  },
  {
   "cell_type": "code",
   "execution_count": 7,
   "id": "b00f0110",
   "metadata": {},
   "outputs": [],
   "source": [
    "categorical_features=[f for (f,v) in train.dtypes if v=='string']"
   ]
  },
  {
   "cell_type": "code",
   "execution_count": 8,
   "id": "9a400390",
   "metadata": {},
   "outputs": [
    {
     "data": {
      "text/plain": [
       "['host_is_superhost',\n",
       " 'cancellation_policy',\n",
       " 'instant_bookable',\n",
       " 'neighbourhood_cleansed',\n",
       " 'property_type',\n",
       " 'room_type',\n",
       " 'bed_type']"
      ]
     },
     "execution_count": 8,
     "metadata": {},
     "output_type": "execute_result"
    }
   ],
   "source": [
    "categorical_features"
   ]
  },
  {
   "cell_type": "code",
   "execution_count": 9,
   "id": "89bad4e7",
   "metadata": {},
   "outputs": [],
   "source": [
    "numerical_features=[f for (f,v) in train.dtypes if (v=='double') &(v!='price')]"
   ]
  },
  {
   "cell_type": "code",
   "execution_count": 10,
   "id": "eb59b6cd",
   "metadata": {},
   "outputs": [
    {
     "data": {
      "text/plain": [
       "['host_total_listings_count',\n",
       " 'latitude',\n",
       " 'longitude',\n",
       " 'accommodates',\n",
       " 'bathrooms',\n",
       " 'bedrooms',\n",
       " 'beds',\n",
       " 'minimum_nights',\n",
       " 'number_of_reviews',\n",
       " 'review_scores_rating',\n",
       " 'review_scores_accuracy',\n",
       " 'review_scores_cleanliness',\n",
       " 'review_scores_checkin',\n",
       " 'review_scores_communication',\n",
       " 'review_scores_location',\n",
       " 'review_scores_value',\n",
       " 'price',\n",
       " 'bedrooms_na',\n",
       " 'bathrooms_na',\n",
       " 'beds_na',\n",
       " 'review_scores_rating_na',\n",
       " 'review_scores_accuracy_na',\n",
       " 'review_scores_cleanliness_na',\n",
       " 'review_scores_checkin_na',\n",
       " 'review_scores_communication_na',\n",
       " 'review_scores_location_na',\n",
       " 'review_scores_value_na']"
      ]
     },
     "execution_count": 10,
     "metadata": {},
     "output_type": "execute_result"
    }
   ],
   "source": [
    "numerical_features"
   ]
  },
  {
   "cell_type": "code",
   "execution_count": 11,
   "id": "eb14a46c",
   "metadata": {},
   "outputs": [],
   "source": [
    "string_indxer_op=[c+'_indxer' for c in categorical_features]"
   ]
  },
  {
   "cell_type": "code",
   "execution_count": 12,
   "id": "efebd6d7",
   "metadata": {},
   "outputs": [
    {
     "data": {
      "text/plain": [
       "['host_is_superhost_indxer',\n",
       " 'cancellation_policy_indxer',\n",
       " 'instant_bookable_indxer',\n",
       " 'neighbourhood_cleansed_indxer',\n",
       " 'property_type_indxer',\n",
       " 'room_type_indxer',\n",
       " 'bed_type_indxer']"
      ]
     },
     "execution_count": 12,
     "metadata": {},
     "output_type": "execute_result"
    }
   ],
   "source": [
    "string_indxer_op"
   ]
  },
  {
   "cell_type": "code",
   "execution_count": 13,
   "id": "d1bc9618",
   "metadata": {},
   "outputs": [],
   "source": [
    "ohe_op=[c+'_ohe' for c in categorical_features]"
   ]
  },
  {
   "cell_type": "code",
   "execution_count": 14,
   "id": "4147859a",
   "metadata": {},
   "outputs": [
    {
     "data": {
      "text/plain": [
       "['host_is_superhost_ohe',\n",
       " 'cancellation_policy_ohe',\n",
       " 'instant_bookable_ohe',\n",
       " 'neighbourhood_cleansed_ohe',\n",
       " 'property_type_ohe',\n",
       " 'room_type_ohe',\n",
       " 'bed_type_ohe']"
      ]
     },
     "execution_count": 14,
     "metadata": {},
     "output_type": "execute_result"
    }
   ],
   "source": [
    "ohe_op"
   ]
  },
  {
   "cell_type": "code",
   "execution_count": 15,
   "id": "81e8b33b",
   "metadata": {},
   "outputs": [],
   "source": [
    "string_indxer=StringIndexer(inputCols=categorical_features,outputCols=string_indxer_op,handleInvalid='skip')"
   ]
  },
  {
   "cell_type": "code",
   "execution_count": 16,
   "id": "450c10f0",
   "metadata": {},
   "outputs": [],
   "source": [
    "OHE=OneHotEncoder(inputCols=string_indxer_op,outputCols=ohe_op)"
   ]
  },
  {
   "cell_type": "code",
   "execution_count": 17,
   "id": "ccbc7588",
   "metadata": {},
   "outputs": [],
   "source": [
    "all_features=numerical_features+ohe_op"
   ]
  },
  {
   "cell_type": "code",
   "execution_count": 18,
   "id": "da8620e0",
   "metadata": {},
   "outputs": [
    {
     "data": {
      "text/plain": [
       "['host_total_listings_count',\n",
       " 'latitude',\n",
       " 'longitude',\n",
       " 'accommodates',\n",
       " 'bathrooms',\n",
       " 'bedrooms',\n",
       " 'beds',\n",
       " 'minimum_nights',\n",
       " 'number_of_reviews',\n",
       " 'review_scores_rating',\n",
       " 'review_scores_accuracy',\n",
       " 'review_scores_cleanliness',\n",
       " 'review_scores_checkin',\n",
       " 'review_scores_communication',\n",
       " 'review_scores_location',\n",
       " 'review_scores_value',\n",
       " 'price',\n",
       " 'bedrooms_na',\n",
       " 'bathrooms_na',\n",
       " 'beds_na',\n",
       " 'review_scores_rating_na',\n",
       " 'review_scores_accuracy_na',\n",
       " 'review_scores_cleanliness_na',\n",
       " 'review_scores_checkin_na',\n",
       " 'review_scores_communication_na',\n",
       " 'review_scores_location_na',\n",
       " 'review_scores_value_na',\n",
       " 'host_is_superhost_ohe',\n",
       " 'cancellation_policy_ohe',\n",
       " 'instant_bookable_ohe',\n",
       " 'neighbourhood_cleansed_ohe',\n",
       " 'property_type_ohe',\n",
       " 'room_type_ohe',\n",
       " 'bed_type_ohe']"
      ]
     },
     "execution_count": 18,
     "metadata": {},
     "output_type": "execute_result"
    }
   ],
   "source": [
    "all_features"
   ]
  },
  {
   "cell_type": "code",
   "execution_count": 19,
   "id": "43f31628",
   "metadata": {},
   "outputs": [],
   "source": [
    "vectassm=VectorAssembler(inputCols=all_features,outputCol='feature')"
   ]
  },
  {
   "cell_type": "code",
   "execution_count": 20,
   "id": "266cedf0",
   "metadata": {},
   "outputs": [],
   "source": [
    "from pyspark.ml.regression import LinearRegression"
   ]
  },
  {
   "cell_type": "code",
   "execution_count": 21,
   "id": "7c47c262",
   "metadata": {},
   "outputs": [],
   "source": [
    "lr=LinearRegression(featuresCol='feature',labelCol='price',predictionCol='preds')"
   ]
  },
  {
   "cell_type": "code",
   "execution_count": 22,
   "id": "00652c5d",
   "metadata": {},
   "outputs": [],
   "source": [
    "from pyspark.ml.pipeline import Pipeline"
   ]
  },
  {
   "cell_type": "code",
   "execution_count": 23,
   "id": "35e7726e",
   "metadata": {},
   "outputs": [],
   "source": [
    "pip=Pipeline(stages=[string_indxer,OHE,vectassm,lr])"
   ]
  },
  {
   "cell_type": "code",
   "execution_count": 24,
   "id": "22968301",
   "metadata": {},
   "outputs": [
    {
     "name": "stderr",
     "output_type": "stream",
     "text": [
      "٢٢/٠٧/١٨ ١٠:٣٩:٤٦ WARN package: Truncated the string representation of a plan since it was too large. This behavior can be adjusted by setting 'spark.sql.debug.maxToStringFields'.\n",
      "٢٢/٠٧/١٨ ١٠:٣٩:٥٠ WARN Instrumentation: [1c1baafc] regParam is zero, which might cause numerical instability and overfitting.\n",
      "٢٢/٠٧/١٨ ١٠:٣٩:٥١ WARN InstanceBuilder$NativeBLAS: Failed to load implementation from:dev.ludovic.netlib.blas.JNIBLAS\n",
      "٢٢/٠٧/١٨ ١٠:٣٩:٥١ WARN InstanceBuilder$NativeBLAS: Failed to load implementation from:dev.ludovic.netlib.blas.ForeignLinkerBLAS\n",
      "٢٢/٠٧/١٨ ١٠:٣٩:٥١ WARN InstanceBuilder$NativeLAPACK: Failed to load implementation from:dev.ludovic.netlib.lapack.JNILAPACK\n"
     ]
    }
   ],
   "source": [
    "model=pip.fit(train)"
   ]
  },
  {
   "cell_type": "code",
   "execution_count": 25,
   "id": "a218d5eb",
   "metadata": {},
   "outputs": [],
   "source": [
    "predDF=model.transform(test)"
   ]
  },
  {
   "cell_type": "code",
   "execution_count": 26,
   "id": "2b3fe6a6",
   "metadata": {},
   "outputs": [
    {
     "name": "stdout",
     "output_type": "stream",
     "text": [
      "+------+------------------+--------------------+\n",
      "| price|             preds|             feature|\n",
      "+------+------------------+--------------------+\n",
      "|  85.0| 84.99999999999983|(99,[0,1,2,3,4,5,...|\n",
      "|  45.0| 44.99999999999982|(99,[0,1,2,3,4,5,...|\n",
      "|  70.0| 69.99999999999982|(99,[0,1,2,3,4,5,...|\n",
      "| 128.0| 127.9999999999998|(99,[0,1,2,3,4,5,...|\n",
      "| 159.0|158.99999999999983|(99,[0,1,2,3,4,5,...|\n",
      "| 250.0|249.99999999999983|(99,[0,1,2,3,4,5,...|\n",
      "|  99.0| 98.99999999999982|(99,[0,1,2,3,4,5,...|\n",
      "|  95.0| 94.99999999999979|(99,[0,1,2,3,4,5,...|\n",
      "| 100.0| 99.99999999999979|(99,[0,1,2,3,4,5,...|\n",
      "|2010.0|2009.9999999999998|(99,[0,1,2,3,4,5,...|\n",
      "| 270.0|269.99999999999983|(99,[0,1,2,3,4,5,...|\n",
      "| 500.0|499.99999999999983|(99,[0,1,2,3,4,5,...|\n",
      "| 125.0|124.99999999999982|(99,[0,1,2,3,4,6,...|\n",
      "| 210.0|209.99999999999983|(99,[0,1,2,3,4,5,...|\n",
      "|  60.0| 59.99999999999981|(99,[0,1,2,3,4,5,...|\n",
      "| 170.0|169.99999999999983|(99,[0,1,2,3,4,5,...|\n",
      "| 214.0| 213.9999999999998|(99,[0,1,2,3,4,5,...|\n",
      "| 120.0|119.99999999999983|(99,[0,1,2,3,4,5,...|\n",
      "|  82.0| 81.99999999999979|(99,[0,1,2,3,4,5,...|\n",
      "| 169.0|168.99999999999983|(99,[0,1,2,3,4,5,...|\n",
      "+------+------------------+--------------------+\n",
      "only showing top 20 rows\n",
      "\n"
     ]
    }
   ],
   "source": [
    "predDF.select(['price','preds','feature']).show()"
   ]
  },
  {
   "cell_type": "code",
   "execution_count": 27,
   "id": "48a96f05",
   "metadata": {},
   "outputs": [],
   "source": [
    "from pyspark.ml.evaluation import RegressionEvaluator\n",
    "Re=RegressionEvaluator(predictionCol='preds',labelCol='price')"
   ]
  },
  {
   "cell_type": "code",
   "execution_count": 28,
   "id": "3e03ddab",
   "metadata": {},
   "outputs": [],
   "source": [
    "rmse=Re.evaluate(predDF)"
   ]
  },
  {
   "cell_type": "code",
   "execution_count": 29,
   "id": "cfaa1ca4",
   "metadata": {},
   "outputs": [
    {
     "data": {
      "text/plain": [
       "1.7773024164109634e-13"
      ]
     },
     "execution_count": 29,
     "metadata": {},
     "output_type": "execute_result"
    }
   ],
   "source": [
    "rmse"
   ]
  },
  {
   "cell_type": "markdown",
   "id": "a82dd2ed",
   "metadata": {},
   "source": [
    "# Classification task"
   ]
  },
  {
   "cell_type": "markdown",
   "id": "8889a3fc",
   "metadata": {},
   "source": [
    "# Preprocessing"
   ]
  },
  {
   "cell_type": "code",
   "execution_count": 30,
   "id": "1e7091a3",
   "metadata": {},
   "outputs": [],
   "source": [
    "covid_data=spark.read.csv('PatientInfo.csv',header=True,inferSchema=True)"
   ]
  },
  {
   "cell_type": "code",
   "execution_count": 31,
   "id": "d538efa1",
   "metadata": {},
   "outputs": [
    {
     "name": "stdout",
     "output_type": "stream",
     "text": [
      "+----------+------+---+-------+--------+-----------+--------------------+-----------+--------------+------------------+--------------+-------------+-------------+--------+\n",
      "|patient_id|   sex|age|country|province|       city|      infection_case|infected_by|contact_number|symptom_onset_date|confirmed_date|released_date|deceased_date|   state|\n",
      "+----------+------+---+-------+--------+-----------+--------------------+-----------+--------------+------------------+--------------+-------------+-------------+--------+\n",
      "|1000000001|  male|50s|  Korea|   Seoul| Gangseo-gu|     overseas inflow|       null|            75|        2020-01-22|    2020-01-23|   2020-02-05|         null|released|\n",
      "|1000000002|  male|30s|  Korea|   Seoul|Jungnang-gu|     overseas inflow|       null|            31|              null|    2020-01-30|   2020-03-02|         null|released|\n",
      "|1000000003|  male|50s|  Korea|   Seoul|  Jongno-gu|contact with patient| 2002000001|            17|              null|    2020-01-30|   2020-02-19|         null|released|\n",
      "|1000000004|  male|20s|  Korea|   Seoul|    Mapo-gu|     overseas inflow|       null|             9|        2020-01-26|    2020-01-30|   2020-02-15|         null|released|\n",
      "|1000000005|female|20s|  Korea|   Seoul|Seongbuk-gu|contact with patient| 1000000002|             2|              null|    2020-01-31|   2020-02-24|         null|released|\n",
      "+----------+------+---+-------+--------+-----------+--------------------+-----------+--------------+------------------+--------------+-------------+-------------+--------+\n",
      "only showing top 5 rows\n",
      "\n"
     ]
    }
   ],
   "source": [
    "covid_data.show(5)"
   ]
  },
  {
   "cell_type": "code",
   "execution_count": 32,
   "id": "948a9b06",
   "metadata": {},
   "outputs": [
    {
     "name": "stdout",
     "output_type": "stream",
     "text": [
      "root\n",
      " |-- patient_id: long (nullable = true)\n",
      " |-- sex: string (nullable = true)\n",
      " |-- age: string (nullable = true)\n",
      " |-- country: string (nullable = true)\n",
      " |-- province: string (nullable = true)\n",
      " |-- city: string (nullable = true)\n",
      " |-- infection_case: string (nullable = true)\n",
      " |-- infected_by: string (nullable = true)\n",
      " |-- contact_number: string (nullable = true)\n",
      " |-- symptom_onset_date: string (nullable = true)\n",
      " |-- confirmed_date: string (nullable = true)\n",
      " |-- released_date: string (nullable = true)\n",
      " |-- deceased_date: string (nullable = true)\n",
      " |-- state: string (nullable = true)\n",
      "\n"
     ]
    }
   ],
   "source": [
    "covid_data.printSchema()"
   ]
  },
  {
   "cell_type": "code",
   "execution_count": 33,
   "id": "6170631e",
   "metadata": {},
   "outputs": [
    {
     "name": "stderr",
     "output_type": "stream",
     "text": [
      "\r",
      "[Stage 11:>                                                         (0 + 1) / 1]\r"
     ]
    },
    {
     "name": "stdout",
     "output_type": "stream",
     "text": [
      "+-------+--------------------+------+----+----------+--------+--------------+--------------------+--------------------+--------------------+------------------+--------------+-------------+-------------+--------+\n",
      "|summary|          patient_id|   sex| age|   country|province|          city|      infection_case|         infected_by|      contact_number|symptom_onset_date|confirmed_date|released_date|deceased_date|   state|\n",
      "+-------+--------------------+------+----+----------+--------+--------------+--------------------+--------------------+--------------------+------------------+--------------+-------------+-------------+--------+\n",
      "|  count|                5165|  4043|3785|      5165|    5165|          5071|                4246|                1346|                 791|               690|          5162|         1587|           66|    5165|\n",
      "|   mean|2.8636345618679576E9|  null|null|      null|    null|          null|                null|2.2845944015643125E9|1.6772572523506988E7|              null|          null|         null|         null|    null|\n",
      "| stddev| 2.074210725277473E9|  null|null|      null|    null|          null|                null|1.5265072953383324E9| 3.093097580985502E8|              null|          null|         null|         null|    null|\n",
      "|    min|          1000000001|female|  0s|Bangladesh|   Busan|     Andong-si|Anyang Gunpo Past...|          1000000002|                   -|                  |    2020-01-20|   2020-02-05|   2020-02-19|deceased|\n",
      "|    max|          7000000019|  male| 90s|   Vietnam|   Ulsan|sankyeock-dong|     overseas inflow|          7000000009|                  95|        2020-06-28|    2020-06-30|   2020-06-28|   2020-05-25|released|\n",
      "+-------+--------------------+------+----+----------+--------+--------------+--------------------+--------------------+--------------------+------------------+--------------+-------------+-------------+--------+\n",
      "\n"
     ]
    },
    {
     "name": "stderr",
     "output_type": "stream",
     "text": [
      "\r",
      "                                                                                \r"
     ]
    }
   ],
   "source": [
    "covid_data.describe().show()"
   ]
  },
  {
   "cell_type": "code",
   "execution_count": 34,
   "id": "433aad5d",
   "metadata": {},
   "outputs": [
    {
     "name": "stdout",
     "output_type": "stream",
     "text": [
      "+--------+\n",
      "|   state|\n",
      "+--------+\n",
      "|released|\n",
      "|released|\n",
      "|released|\n",
      "+--------+\n",
      "only showing top 3 rows\n",
      "\n"
     ]
    }
   ],
   "source": [
    "covid_data.select(covid_data['state']).show(3)"
   ]
  },
  {
   "cell_type": "code",
   "execution_count": 35,
   "id": "ef44a07b",
   "metadata": {},
   "outputs": [],
   "source": [
    "from pyspark.sql.functions import *"
   ]
  },
  {
   "cell_type": "code",
   "execution_count": 36,
   "id": "31c81499",
   "metadata": {},
   "outputs": [
    {
     "data": {
      "text/plain": [
       "2929"
      ]
     },
     "execution_count": 36,
     "metadata": {},
     "output_type": "execute_result"
    }
   ],
   "source": [
    "covid_data.select(col('state')).where(col('state')=='released').count()"
   ]
  },
  {
   "cell_type": "code",
   "execution_count": 37,
   "id": "b92ee9c5",
   "metadata": {},
   "outputs": [
    {
     "data": {
      "text/plain": [
       "2236"
      ]
     },
     "execution_count": 37,
     "metadata": {},
     "output_type": "execute_result"
    }
   ],
   "source": [
    "covid_data.select(col('state')).where(col('state')!='released').count()"
   ]
  },
  {
   "cell_type": "code",
   "execution_count": 38,
   "id": "926bd630",
   "metadata": {},
   "outputs": [
    {
     "name": "stdout",
     "output_type": "stream",
     "text": [
      "+----------+----+----+-------+--------+----+--------------+-----------+--------------+------------------+--------------+-------------+-------------+-----+\n",
      "|patient_id| sex| age|country|province|city|infection_case|infected_by|contact_number|symptom_onset_date|confirmed_date|released_date|deceased_date|state|\n",
      "+----------+----+----+-------+--------+----+--------------+-----------+--------------+------------------+--------------+-------------+-------------+-----+\n",
      "|         0|1122|1380|      0|       0|  94|           919|       3819|          4374|              4475|             3|         3578|         5099|    0|\n",
      "+----------+----+----+-------+--------+----+--------------+-----------+--------------+------------------+--------------+-------------+-------------+-----+\n",
      "\n"
     ]
    }
   ],
   "source": [
    "covid_data.select([ count(when(isnull(c),c)).alias(c) for c in covid_data.columns]).show(3)"
   ]
  },
  {
   "cell_type": "code",
   "execution_count": 39,
   "id": "21ad3325",
   "metadata": {},
   "outputs": [
    {
     "name": "stdout",
     "output_type": "stream",
     "text": [
      "+-----+\n",
      "|count|\n",
      "+-----+\n",
      "| 2929|\n",
      "+-----+\n",
      "\n"
     ]
    }
   ],
   "source": [
    "covid_data.select(count(when(col('state')=='released',col('state'))).alias('count')).show()"
   ]
  },
  {
   "cell_type": "code",
   "execution_count": 40,
   "id": "a95f8d39",
   "metadata": {},
   "outputs": [
    {
     "name": "stdout",
     "output_type": "stream",
     "text": [
      "+--------------------------------------+\n",
      "|coalesce(released_date, deceased_date)|\n",
      "+--------------------------------------+\n",
      "|                            2020-02-05|\n",
      "|                            2020-03-02|\n",
      "|                            2020-02-19|\n",
      "|                            2020-02-15|\n",
      "|                            2020-02-24|\n",
      "|                            2020-02-19|\n",
      "|                            2020-02-10|\n",
      "|                            2020-02-24|\n",
      "|                            2020-02-21|\n",
      "|                            2020-02-29|\n",
      "|                            2020-02-29|\n",
      "|                            2020-02-27|\n",
      "|                                  null|\n",
      "|                            2020-03-12|\n",
      "|                                  null|\n",
      "|                            2020-03-11|\n",
      "|                            2020-03-01|\n",
      "|                                  null|\n",
      "|                            2020-03-08|\n",
      "|                                  null|\n",
      "+--------------------------------------+\n",
      "only showing top 20 rows\n",
      "\n"
     ]
    }
   ],
   "source": [
    "covid_data.select(coalesce(covid_data['released_date'],covid_data['deceased_date'])).show()"
   ]
  },
  {
   "cell_type": "code",
   "execution_count": 41,
   "id": "0804ca70",
   "metadata": {},
   "outputs": [],
   "source": [
    "covid_data=covid_data.withColumn('deceased_date',coalesce(covid_data['deceased_date'],covid_data['released_date']))"
   ]
  },
  {
   "cell_type": "code",
   "execution_count": 42,
   "id": "4a6a6ae8",
   "metadata": {},
   "outputs": [
    {
     "name": "stdout",
     "output_type": "stream",
     "text": [
      "+-------------+\n",
      "|deceased_date|\n",
      "+-------------+\n",
      "|   2020-02-05|\n",
      "|   2020-03-02|\n",
      "|   2020-02-19|\n",
      "|   2020-02-15|\n",
      "|   2020-02-24|\n",
      "|   2020-02-19|\n",
      "|   2020-02-10|\n",
      "|   2020-02-24|\n",
      "|   2020-02-21|\n",
      "|   2020-02-29|\n",
      "|   2020-02-29|\n",
      "|   2020-02-27|\n",
      "|         null|\n",
      "|   2020-03-12|\n",
      "|         null|\n",
      "|   2020-03-11|\n",
      "|   2020-03-01|\n",
      "|         null|\n",
      "|   2020-03-08|\n",
      "|         null|\n",
      "+-------------+\n",
      "only showing top 20 rows\n",
      "\n"
     ]
    }
   ],
   "source": [
    "covid_data.select(col('deceased_date')).show()"
   ]
  },
  {
   "cell_type": "code",
   "execution_count": 43,
   "id": "18e13a86",
   "metadata": {},
   "outputs": [],
   "source": [
    "covid_data=covid_data.withColumn('released_date',to_timestamp(col('released_date'),'yyyy-MM-dd'))"
   ]
  },
  {
   "cell_type": "code",
   "execution_count": 44,
   "id": "0b474f24",
   "metadata": {},
   "outputs": [],
   "source": [
    "covid_data=covid_data.withColumn('deceased_date',to_timestamp(col('deceased_date'),'yyy-MM-dd'))"
   ]
  },
  {
   "cell_type": "code",
   "execution_count": 45,
   "id": "2051f660",
   "metadata": {},
   "outputs": [],
   "source": [
    "covid_data=covid_data.withColumn('confirmed_date',to_timestamp(col('confirmed_date'),'yyy-MM-dd'))"
   ]
  },
  {
   "cell_type": "code",
   "execution_count": 46,
   "id": "5b63910b",
   "metadata": {},
   "outputs": [],
   "source": [
    "covid_data=covid_data.withColumn('no_days',datediff(col('confirmed_date'),col('deceased_date')))"
   ]
  },
  {
   "cell_type": "code",
   "execution_count": 47,
   "id": "dcb5c263",
   "metadata": {},
   "outputs": [
    {
     "name": "stdout",
     "output_type": "stream",
     "text": [
      "+-------+\n",
      "|no_days|\n",
      "+-------+\n",
      "|    -13|\n",
      "|    -32|\n",
      "|    -20|\n",
      "|    -16|\n",
      "|    -24|\n",
      "|    -19|\n",
      "|    -10|\n",
      "|    -22|\n",
      "|    -16|\n",
      "|    -24|\n",
      "|    -23|\n",
      "|    -20|\n",
      "|   null|\n",
      "|    -25|\n",
      "|   null|\n",
      "|    -21|\n",
      "|    -10|\n",
      "|   null|\n",
      "|    -17|\n",
      "|   null|\n",
      "+-------+\n",
      "only showing top 20 rows\n",
      "\n"
     ]
    }
   ],
   "source": [
    "covid_data.select('no_days').show()"
   ]
  },
  {
   "cell_type": "code",
   "execution_count": 48,
   "id": "20f5c912",
   "metadata": {},
   "outputs": [],
   "source": [
    "covid_data=covid_data.withColumn('is_male',when(col('sex')=='male',1).otherwise(0))"
   ]
  },
  {
   "cell_type": "code",
   "execution_count": 49,
   "id": "111fcdbd",
   "metadata": {},
   "outputs": [
    {
     "name": "stdout",
     "output_type": "stream",
     "text": [
      "+-------+\n",
      "|is_male|\n",
      "+-------+\n",
      "|      1|\n",
      "|      1|\n",
      "|      1|\n",
      "|      1|\n",
      "|      0|\n",
      "|      0|\n",
      "|      1|\n",
      "|      1|\n",
      "|      1|\n",
      "|      0|\n",
      "|      0|\n",
      "|      1|\n",
      "|      1|\n",
      "|      0|\n",
      "|      1|\n",
      "|      1|\n",
      "|      1|\n",
      "|      1|\n",
      "|      0|\n",
      "|      0|\n",
      "+-------+\n",
      "only showing top 20 rows\n",
      "\n"
     ]
    }
   ],
   "source": [
    "covid_data.select('is_male').show()"
   ]
  },
  {
   "cell_type": "code",
   "execution_count": 50,
   "id": "d5a8e9b7",
   "metadata": {},
   "outputs": [],
   "source": [
    "covid_data=covid_data.withColumn('is_dead',when(col('state')!='released',1).otherwise(0))"
   ]
  },
  {
   "cell_type": "code",
   "execution_count": 51,
   "id": "271f4d90",
   "metadata": {},
   "outputs": [
    {
     "name": "stdout",
     "output_type": "stream",
     "text": [
      "+---+\n",
      "|age|\n",
      "+---+\n",
      "|50s|\n",
      "|30s|\n",
      "|50s|\n",
      "|20s|\n",
      "|20s|\n",
      "|50s|\n",
      "|20s|\n",
      "|20s|\n",
      "|30s|\n",
      "|60s|\n",
      "|50s|\n",
      "|20s|\n",
      "|80s|\n",
      "|60s|\n",
      "|70s|\n",
      "|70s|\n",
      "|70s|\n",
      "|20s|\n",
      "|70s|\n",
      "|70s|\n",
      "+---+\n",
      "only showing top 20 rows\n",
      "\n"
     ]
    }
   ],
   "source": [
    "covid_data.select('age').show()"
   ]
  },
  {
   "cell_type": "code",
   "execution_count": 52,
   "id": "066689ce",
   "metadata": {},
   "outputs": [],
   "source": [
    "covid_data=covid_data.withColumn('age',split(col('age'),'s').getItem(0))"
   ]
  },
  {
   "cell_type": "code",
   "execution_count": 53,
   "id": "0c79dfd4",
   "metadata": {},
   "outputs": [
    {
     "name": "stdout",
     "output_type": "stream",
     "text": [
      "+---+\n",
      "|age|\n",
      "+---+\n",
      "| 50|\n",
      "| 30|\n",
      "| 50|\n",
      "| 20|\n",
      "| 20|\n",
      "| 50|\n",
      "| 20|\n",
      "| 20|\n",
      "| 30|\n",
      "| 60|\n",
      "| 50|\n",
      "| 20|\n",
      "| 80|\n",
      "| 60|\n",
      "| 70|\n",
      "| 70|\n",
      "| 70|\n",
      "| 20|\n",
      "| 70|\n",
      "| 70|\n",
      "+---+\n",
      "only showing top 20 rows\n",
      "\n"
     ]
    }
   ],
   "source": [
    "covid_data.select('age').show()"
   ]
  },
  {
   "cell_type": "code",
   "execution_count": 54,
   "id": "a92724ee",
   "metadata": {},
   "outputs": [],
   "source": [
    "covid_data=covid_data.withColumn('age',col('age').cast('Double'))"
   ]
  },
  {
   "cell_type": "code",
   "execution_count": 55,
   "id": "9390b1a3",
   "metadata": {},
   "outputs": [],
   "source": [
    "covid_data=covid_data.drop(\"patient_id\",\"sex\",\"infected_by\",\"contact_number\",\"released_date\",\"state\", \"symptom_onset_date\",\"confirmed_date\",\"deceased_date\",\"country\",\"no_days\", \"city\",\"infection_case\")"
   ]
  },
  {
   "cell_type": "code",
   "execution_count": 56,
   "id": "681b3125",
   "metadata": {},
   "outputs": [
    {
     "name": "stdout",
     "output_type": "stream",
     "text": [
      "+----+--------+-------+-------+\n",
      "| age|province|is_male|is_dead|\n",
      "+----+--------+-------+-------+\n",
      "|50.0|   Seoul|      1|      0|\n",
      "|30.0|   Seoul|      1|      0|\n",
      "|50.0|   Seoul|      1|      0|\n",
      "|20.0|   Seoul|      1|      0|\n",
      "|20.0|   Seoul|      0|      0|\n",
      "|50.0|   Seoul|      0|      0|\n",
      "|20.0|   Seoul|      1|      0|\n",
      "|20.0|   Seoul|      1|      0|\n",
      "|30.0|   Seoul|      1|      0|\n",
      "|60.0|   Seoul|      0|      0|\n",
      "|50.0|   Seoul|      0|      0|\n",
      "|20.0|   Seoul|      1|      0|\n",
      "|80.0|   Seoul|      1|      1|\n",
      "|60.0|   Seoul|      0|      0|\n",
      "|70.0|   Seoul|      1|      0|\n",
      "|70.0|   Seoul|      1|      0|\n",
      "|70.0|   Seoul|      1|      0|\n",
      "|20.0|   Seoul|      1|      0|\n",
      "|70.0|   Seoul|      0|      0|\n",
      "|70.0|   Seoul|      0|      0|\n",
      "+----+--------+-------+-------+\n",
      "only showing top 20 rows\n",
      "\n"
     ]
    }
   ],
   "source": [
    "covid_data.show()"
   ]
  },
  {
   "cell_type": "code",
   "execution_count": 57,
   "id": "6bb5bd41",
   "metadata": {},
   "outputs": [
    {
     "name": "stdout",
     "output_type": "stream",
     "text": [
      "+-------------------------------------------+-----------------------------------------------------+---------------------------------------------------+---------------------------------------------------+\n",
      "|count(CASE WHEN (age IS NULL) THEN age END)|count(CASE WHEN (province IS NULL) THEN province END)|count(CASE WHEN (is_male IS NULL) THEN is_male END)|count(CASE WHEN (is_dead IS NULL) THEN is_dead END)|\n",
      "+-------------------------------------------+-----------------------------------------------------+---------------------------------------------------+---------------------------------------------------+\n",
      "|                                       1380|                                                    0|                                                  0|                                                  0|\n",
      "+-------------------------------------------+-----------------------------------------------------+---------------------------------------------------+---------------------------------------------------+\n",
      "\n"
     ]
    }
   ],
   "source": [
    "covid_data.select([ count(when(isnull(c),c)) for c in covid_data.columns]).show()"
   ]
  },
  {
   "cell_type": "markdown",
   "id": "e7809687",
   "metadata": {},
   "source": [
    "# model"
   ]
  },
  {
   "cell_type": "code",
   "execution_count": 58,
   "id": "045733ee",
   "metadata": {},
   "outputs": [
    {
     "name": "stdout",
     "output_type": "stream",
     "text": [
      "root\n",
      " |-- age: double (nullable = true)\n",
      " |-- province: string (nullable = true)\n",
      " |-- is_male: integer (nullable = false)\n",
      " |-- is_dead: integer (nullable = false)\n",
      "\n"
     ]
    }
   ],
   "source": [
    "covid_data.printSchema()"
   ]
  },
  {
   "cell_type": "code",
   "execution_count": 59,
   "id": "ee6ed3de",
   "metadata": {},
   "outputs": [],
   "source": [
    "covid_data=covid_data.withColumn('is_male',col('is_male').cast('Double'))\n",
    "covid_data=covid_data.withColumn('is_dead',col('is_dead').cast('Double'))"
   ]
  },
  {
   "cell_type": "code",
   "execution_count": 60,
   "id": "29d992ee",
   "metadata": {},
   "outputs": [
    {
     "name": "stdout",
     "output_type": "stream",
     "text": [
      "root\n",
      " |-- age: double (nullable = true)\n",
      " |-- province: string (nullable = true)\n",
      " |-- is_male: double (nullable = false)\n",
      " |-- is_dead: double (nullable = false)\n",
      "\n"
     ]
    }
   ],
   "source": [
    "covid_data.printSchema()"
   ]
  },
  {
   "cell_type": "code",
   "execution_count": 61,
   "id": "be23b8ce",
   "metadata": {},
   "outputs": [],
   "source": [
    "from  pyspark.ml.feature import StringIndexer,OneHotEncoder,Imputer,VectorAssembler"
   ]
  },
  {
   "cell_type": "code",
   "execution_count": 62,
   "id": "707b3af4",
   "metadata": {},
   "outputs": [],
   "source": [
    "train,test=covid_data.randomSplit([0.8,0.2],2)"
   ]
  },
  {
   "cell_type": "code",
   "execution_count": 63,
   "id": "959e525c",
   "metadata": {},
   "outputs": [],
   "source": [
    "categorical_features=[f for (f,v) in train.dtypes if v=='string']"
   ]
  },
  {
   "cell_type": "code",
   "execution_count": 64,
   "id": "24fae9a2",
   "metadata": {},
   "outputs": [
    {
     "data": {
      "text/plain": [
       "['province']"
      ]
     },
     "execution_count": 64,
     "metadata": {},
     "output_type": "execute_result"
    }
   ],
   "source": [
    "categorical_features"
   ]
  },
  {
   "cell_type": "code",
   "execution_count": 65,
   "id": "a69bc1bb",
   "metadata": {},
   "outputs": [],
   "source": [
    "numerical_features=['age','is_male']"
   ]
  },
  {
   "cell_type": "code",
   "execution_count": 66,
   "id": "0a1eb313",
   "metadata": {},
   "outputs": [
    {
     "data": {
      "text/plain": [
       "['age', 'is_male']"
      ]
     },
     "execution_count": 66,
     "metadata": {},
     "output_type": "execute_result"
    }
   ],
   "source": [
    "numerical_features"
   ]
  },
  {
   "cell_type": "code",
   "execution_count": 67,
   "id": "ce65af03",
   "metadata": {},
   "outputs": [],
   "source": [
    "string_indxer_op=[c+'_indexer' for c in categorical_features]\n",
    "ohe_op=[c+'_ohe' for c in categorical_features]\n",
    "imp_op=[c+'_imputed' for c in numerical_features]"
   ]
  },
  {
   "cell_type": "code",
   "execution_count": 68,
   "id": "dd4d4ee1",
   "metadata": {},
   "outputs": [],
   "source": [
    "strindxer=StringIndexer(inputCols=categorical_features\n",
    "                       ,outputCols=string_indxer_op)\n",
    "\n",
    "ohe=OneHotEncoder(inputCols=string_indxer_op,outputCols=ohe_op)\n",
    "\n",
    "imputer=Imputer(inputCols=numerical_features,strategy='mean',\n",
    "                outputCols=imp_op)\n",
    "\n",
    "all_features=ohe_op+imp_op\n",
    "vectasm=VectorAssembler(inputCols=all_features,outputCol='feature')\n"
   ]
  },
  {
   "cell_type": "code",
   "execution_count": 69,
   "id": "ba04abed",
   "metadata": {},
   "outputs": [],
   "source": [
    "from pyspark.ml.classification import NaiveBayes"
   ]
  },
  {
   "cell_type": "code",
   "execution_count": 70,
   "id": "da9e6df2",
   "metadata": {},
   "outputs": [],
   "source": [
    "nb=NaiveBayes(featuresCol='feature',predictionCol='preds',labelCol='is_dead')"
   ]
  },
  {
   "cell_type": "code",
   "execution_count": 71,
   "id": "3bb46e66",
   "metadata": {},
   "outputs": [],
   "source": [
    "from pyspark.ml.pipeline import Pipeline"
   ]
  },
  {
   "cell_type": "code",
   "execution_count": 72,
   "id": "fd088d15",
   "metadata": {},
   "outputs": [],
   "source": [
    "pip=Pipeline(stages=[strindxer,ohe,imputer,vectasm,nb])"
   ]
  },
  {
   "cell_type": "code",
   "execution_count": 73,
   "id": "b170b508",
   "metadata": {},
   "outputs": [],
   "source": [
    "model=pip.fit(train)"
   ]
  },
  {
   "cell_type": "code",
   "execution_count": 74,
   "id": "6f149a6b",
   "metadata": {},
   "outputs": [],
   "source": [
    "predsDF=model.transform(test)"
   ]
  },
  {
   "cell_type": "code",
   "execution_count": 75,
   "id": "f4e37aae",
   "metadata": {},
   "outputs": [
    {
     "name": "stdout",
     "output_type": "stream",
     "text": [
      "+--------------------+-----+-------+\n",
      "|             feature|preds|is_dead|\n",
      "+--------------------+-----+-------+\n",
      "|(18,[2,16],[1.0,4...|  1.0|    1.0|\n",
      "|(18,[2,16],[1.0,4...|  1.0|    1.0|\n",
      "|(18,[2,16],[1.0,4...|  1.0|    1.0|\n",
      "|(18,[2,16],[1.0,4...|  1.0|    1.0|\n",
      "|(18,[2,16],[1.0,4...|  1.0|    1.0|\n",
      "|(18,[2,16],[1.0,4...|  1.0|    1.0|\n",
      "|(18,[2,16],[1.0,4...|  1.0|    1.0|\n",
      "|(18,[2,16],[1.0,4...|  1.0|    1.0|\n",
      "|(18,[2,16],[1.0,4...|  1.0|    1.0|\n",
      "|(18,[2,16],[1.0,4...|  1.0|    1.0|\n",
      "|(18,[2,16],[1.0,4...|  1.0|    1.0|\n",
      "|(18,[2,16],[1.0,4...|  1.0|    1.0|\n",
      "|(18,[2,16],[1.0,4...|  1.0|    1.0|\n",
      "|(18,[2,16],[1.0,4...|  1.0|    1.0|\n",
      "|(18,[2,16],[1.0,4...|  1.0|    1.0|\n",
      "|(18,[2,16],[1.0,4...|  1.0|    1.0|\n",
      "|(18,[2,16],[1.0,4...|  1.0|    1.0|\n",
      "|(18,[2,16],[1.0,4...|  1.0|    1.0|\n",
      "|(18,[2,16],[1.0,4...|  1.0|    1.0|\n",
      "|(18,[2,16],[1.0,4...|  1.0|    1.0|\n",
      "+--------------------+-----+-------+\n",
      "only showing top 20 rows\n",
      "\n"
     ]
    }
   ],
   "source": [
    "predsDF.select(['feature','preds','is_dead']).show()"
   ]
  },
  {
   "cell_type": "code",
   "execution_count": 76,
   "id": "4a8156ab",
   "metadata": {},
   "outputs": [],
   "source": [
    "from pyspark.ml.evaluation import BinaryClassificationEvaluator"
   ]
  },
  {
   "cell_type": "code",
   "execution_count": 77,
   "id": "b96803f6",
   "metadata": {},
   "outputs": [],
   "source": [
    "nb_ev=BinaryClassificationEvaluator(labelCol='is_dead',rawPredictionCol='preds')"
   ]
  },
  {
   "cell_type": "code",
   "execution_count": 78,
   "id": "5ad7944d",
   "metadata": {},
   "outputs": [
    {
     "name": "stderr",
     "output_type": "stream",
     "text": [
      "                                                                                \r"
     ]
    },
    {
     "data": {
      "text/plain": [
       "0.854410585404972"
      ]
     },
     "execution_count": 78,
     "metadata": {},
     "output_type": "execute_result"
    }
   ],
   "source": [
    "nb_ev.evaluate(predsDF)"
   ]
  },
  {
   "cell_type": "markdown",
   "id": "67b6669d",
   "metadata": {},
   "source": [
    "# Clustering"
   ]
  },
  {
   "cell_type": "code",
   "execution_count": 1,
   "id": "fdcc9ee3",
   "metadata": {},
   "outputs": [],
   "source": [
    "from pyspark.ml.clustering import KMeans"
   ]
  },
  {
   "cell_type": "code",
   "execution_count": 2,
   "id": "9538efa3",
   "metadata": {},
   "outputs": [
    {
     "name": "stderr",
     "output_type": "stream",
     "text": [
      "٢٢/٠٧/١٨ ١٠:٣٩:٣٤ WARN Utils: Your hostname, mohand-Lenovo-ideapad-310-15IKB resolves to a loopback address: 127.0.1.1; using 192.168.1.17 instead (on interface wlp2s0)\n",
      "٢٢/٠٧/١٨ ١٠:٣٩:٣٤ WARN Utils: Set SPARK_LOCAL_IP if you need to bind to another address\n",
      "WARNING: An illegal reflective access operation has occurred\n",
      "WARNING: Illegal reflective access by org.apache.spark.unsafe.Platform (file:/opt/spark/jars/spark-unsafe_2.12-3.2.1.jar) to constructor java.nio.DirectByteBuffer(long,int)\n",
      "WARNING: Please consider reporting this to the maintainers of org.apache.spark.unsafe.Platform\n",
      "WARNING: Use --illegal-access=warn to enable warnings of further illegal reflective access operations\n",
      "WARNING: All illegal access operations will be denied in a future release\n",
      "Using Spark's default log4j profile: org/apache/spark/log4j-defaults.properties\n",
      "Setting default log level to \"WARN\".\n",
      "To adjust logging level use sc.setLogLevel(newLevel). For SparkR, use setLogLevel(newLevel).\n",
      "٢٢/٠٧/١٨ ١٠:٣٩:٣٥ WARN NativeCodeLoader: Unable to load native-hadoop library for your platform... using builtin-java classes where applicable\n",
      "٢٢/٠٧/١٨ ١٠:٣٩:٣٥ WARN Utils: Service 'SparkUI' could not bind on port 4040. Attempting port 4041.\n"
     ]
    }
   ],
   "source": [
    "from pyspark import SparkContext\n",
    "sc = SparkContext(\"local\", \"Simple App\")"
   ]
  },
  {
   "cell_type": "code",
   "execution_count": 87,
   "id": "6a603692",
   "metadata": {},
   "outputs": [],
   "source": [
    "import numpy as np\n",
    "import pandas as pd\n",
    "import matplotlib.pyplot as plt\n",
    "from sklearn.datasets import make_blobs\n",
    "import seaborn as sns"
   ]
  },
  {
   "cell_type": "code",
   "execution_count": 133,
   "id": "a423e0d8",
   "metadata": {},
   "outputs": [],
   "source": [
    "n_samples=10000\n",
    "n_features=3\n",
    "X, y = make_blobs(n_samples=n_samples, centers=3, n_features=n_features, random_state=42)"
   ]
  },
  {
   "cell_type": "code",
   "execution_count": 134,
   "id": "4cf7f543",
   "metadata": {},
   "outputs": [],
   "source": [
    "df=pd.DataFrame(X,columns=['x','y','z'])"
   ]
  },
  {
   "cell_type": "code",
   "execution_count": 135,
   "id": "fcc4caaa",
   "metadata": {},
   "outputs": [
    {
     "data": {
      "text/html": [
       "<div>\n",
       "<style scoped>\n",
       "    .dataframe tbody tr th:only-of-type {\n",
       "        vertical-align: middle;\n",
       "    }\n",
       "\n",
       "    .dataframe tbody tr th {\n",
       "        vertical-align: top;\n",
       "    }\n",
       "\n",
       "    .dataframe thead th {\n",
       "        text-align: right;\n",
       "    }\n",
       "</style>\n",
       "<table border=\"1\" class=\"dataframe\">\n",
       "  <thead>\n",
       "    <tr style=\"text-align: right;\">\n",
       "      <th></th>\n",
       "      <th>x</th>\n",
       "      <th>y</th>\n",
       "      <th>z</th>\n",
       "    </tr>\n",
       "  </thead>\n",
       "  <tbody>\n",
       "    <tr>\n",
       "      <th>0</th>\n",
       "      <td>0.689927</td>\n",
       "      <td>-7.790698</td>\n",
       "      <td>-5.249491</td>\n",
       "    </tr>\n",
       "    <tr>\n",
       "      <th>1</th>\n",
       "      <td>-9.326063</td>\n",
       "      <td>5.669771</td>\n",
       "      <td>3.245473</td>\n",
       "    </tr>\n",
       "    <tr>\n",
       "      <th>2</th>\n",
       "      <td>-8.344055</td>\n",
       "      <td>6.009662</td>\n",
       "      <td>2.255320</td>\n",
       "    </tr>\n",
       "    <tr>\n",
       "      <th>3</th>\n",
       "      <td>-8.220472</td>\n",
       "      <td>6.551106</td>\n",
       "      <td>1.291325</td>\n",
       "    </tr>\n",
       "    <tr>\n",
       "      <th>4</th>\n",
       "      <td>-0.986486</td>\n",
       "      <td>8.228586</td>\n",
       "      <td>6.138346</td>\n",
       "    </tr>\n",
       "    <tr>\n",
       "      <th>...</th>\n",
       "      <td>...</td>\n",
       "      <td>...</td>\n",
       "      <td>...</td>\n",
       "    </tr>\n",
       "    <tr>\n",
       "      <th>9995</th>\n",
       "      <td>-10.401517</td>\n",
       "      <td>8.468296</td>\n",
       "      <td>1.731285</td>\n",
       "    </tr>\n",
       "    <tr>\n",
       "      <th>9996</th>\n",
       "      <td>-7.764441</td>\n",
       "      <td>6.151103</td>\n",
       "      <td>3.403646</td>\n",
       "    </tr>\n",
       "    <tr>\n",
       "      <th>9997</th>\n",
       "      <td>3.822538</td>\n",
       "      <td>-5.792689</td>\n",
       "      <td>-8.228827</td>\n",
       "    </tr>\n",
       "    <tr>\n",
       "      <th>9998</th>\n",
       "      <td>-9.916196</td>\n",
       "      <td>6.751302</td>\n",
       "      <td>0.092884</td>\n",
       "    </tr>\n",
       "    <tr>\n",
       "      <th>9999</th>\n",
       "      <td>3.144972</td>\n",
       "      <td>-6.381491</td>\n",
       "      <td>-6.929539</td>\n",
       "    </tr>\n",
       "  </tbody>\n",
       "</table>\n",
       "<p>10000 rows × 3 columns</p>\n",
       "</div>"
      ],
      "text/plain": [
       "              x         y         z\n",
       "0      0.689927 -7.790698 -5.249491\n",
       "1     -9.326063  5.669771  3.245473\n",
       "2     -8.344055  6.009662  2.255320\n",
       "3     -8.220472  6.551106  1.291325\n",
       "4     -0.986486  8.228586  6.138346\n",
       "...         ...       ...       ...\n",
       "9995 -10.401517  8.468296  1.731285\n",
       "9996  -7.764441  6.151103  3.403646\n",
       "9997   3.822538 -5.792689 -8.228827\n",
       "9998  -9.916196  6.751302  0.092884\n",
       "9999   3.144972 -6.381491 -6.929539\n",
       "\n",
       "[10000 rows x 3 columns]"
      ]
     },
     "execution_count": 135,
     "metadata": {},
     "output_type": "execute_result"
    }
   ],
   "source": [
    "df"
   ]
  },
  {
   "cell_type": "code",
   "execution_count": 136,
   "id": "b3de154e",
   "metadata": {},
   "outputs": [
    {
     "name": "stderr",
     "output_type": "stream",
     "text": [
      "/home/mohand/anaconda3/lib/python3.8/site-packages/seaborn/_decorators.py:36: FutureWarning: Pass the following variables as keyword args: x, y. From version 0.12, the only valid positional argument will be `data`, and passing other arguments without an explicit keyword will result in an error or misinterpretation.\n",
      "  warnings.warn(\n"
     ]
    },
    {
     "data": {
      "image/png": "[encoded data removed]",
      "text/plain": [
       "<Figure size 432x288 with 1 Axes>"
      ]
     },
     "metadata": {
      "needs_background": "light"
     },
     "output_type": "display_data"
    }
   ],
   "source": [
    "sns.scatterplot(df['x'],df['y']);"
   ]
  },
  {
   "cell_type": "code",
   "execution_count": 137,
   "id": "9c9b6fa1",
   "metadata": {},
   "outputs": [],
   "source": [
    "data_clustering=df.to_csv('clustering_dataset.csv')"
   ]
  },
  {
   "cell_type": "code",
   "execution_count": 138,
   "id": "8c10233c",
   "metadata": {},
   "outputs": [],
   "source": [
    "spark_df=spark.read.csv('clustering_dataset.csv',header=True,inferSchema=True)"
   ]
  },
  {
   "cell_type": "code",
   "execution_count": 139,
   "id": "220844eb",
   "metadata": {},
   "outputs": [
    {
     "name": "stdout",
     "output_type": "stream",
     "text": [
      "root\n",
      " |-- _c0: integer (nullable = true)\n",
      " |-- x: double (nullable = true)\n",
      " |-- y: double (nullable = true)\n",
      " |-- z: double (nullable = true)\n",
      "\n"
     ]
    }
   ],
   "source": [
    "spark_df.printSchema()"
   ]
  },
  {
   "cell_type": "code",
   "execution_count": 140,
   "id": "364781fd",
   "metadata": {},
   "outputs": [
    {
     "name": "stdout",
     "output_type": "stream",
     "text": [
      "+---+-------------------+------------------+-------------------+\n",
      "|_c0|                  x|                 y|                  z|\n",
      "+---+-------------------+------------------+-------------------+\n",
      "|  0| 0.6899271167947574|-7.790698277430851| -5.249490613159584|\n",
      "|  1| -9.326062752208909|5.6697705804158876| 3.2454733525829216|\n",
      "|  2|  -8.34405486266206|   6.0096617553112|  2.255319917567878|\n",
      "|  3| -8.220472342879457| 6.551105663165592|  1.291324791398138|\n",
      "|  4|  -0.98648632375658| 8.228585907319978|  6.138346160365143|\n",
      "|  5|  -8.79564383993836| 7.563380783051231| 1.9289011112247587|\n",
      "|  6|-3.6739970204218726| 9.154300615073936|  4.932830669746936|\n",
      "|  7|  -9.69921085371959|   8.8197212703262|  2.434610428897709|\n",
      "|  8| -9.677356792542135| 7.279051835708259| 2.4454226022159964|\n",
      "|  9| 0.9187894886953158|-6.324181008948341| -4.894164817187939|\n",
      "| 10|   2.75642586798614|-5.799929007674713| -7.210555057875675|\n",
      "| 11|  2.239255105007773| -6.24240909979595|  -6.06812574064193|\n",
      "| 12|-1.9777079349060922|10.849106272785024| 3.9048058526007434|\n",
      "| 13|  2.482004578481539|-6.552307448423381|  -6.37042575252973|\n",
      "| 14| -8.489342723342004|7.1220140181302165|  2.612644146741303|\n",
      "| 15| -3.767612453617671| 7.775640001084246|  5.600456739937085|\n",
      "| 16|  2.241837609044567|-5.717436138498687| -5.978813382069921|\n",
      "| 17|  3.308601412910317|-7.656617025401853|-6.2316302665787004|\n",
      "| 18| -9.804362721213964| 7.203691112315237|0.45919401136568694|\n",
      "| 19|-2.1543238201167036| 8.145440049879891|  5.703652820013678|\n",
      "+---+-------------------+------------------+-------------------+\n",
      "only showing top 20 rows\n",
      "\n"
     ]
    },
    {
     "name": "stderr",
     "output_type": "stream",
     "text": [
      "٢٢/٠٧/١٨ ١١:١١:٣١ WARN CSVHeaderChecker: CSV header does not conform to the schema.\n",
      " Header: , x, y, z\n",
      " Schema: _c0, x, y, z\n",
      "Expected: _c0 but found: \n",
      "CSV file: file:///home/mohand/Desktop/Spark/Day2/clustering_dataset.csv\n"
     ]
    }
   ],
   "source": [
    "spark_df.show()"
   ]
  },
  {
   "cell_type": "code",
   "execution_count": 141,
   "id": "955254a8",
   "metadata": {},
   "outputs": [],
   "source": [
    "df_final=spark_df.select(['x','y','z'])"
   ]
  },
  {
   "cell_type": "code",
   "execution_count": 142,
   "id": "3db989a1",
   "metadata": {},
   "outputs": [],
   "source": [
    "df_final=df_final.na.drop()"
   ]
  },
  {
   "cell_type": "code",
   "execution_count": 143,
   "id": "f6f79ecc",
   "metadata": {},
   "outputs": [],
   "source": [
    "vectasm1=VectorAssembler(inputCols=['x','y','z'],outputCol='feature')"
   ]
  },
  {
   "cell_type": "code",
   "execution_count": 144,
   "id": "30c6e9c5",
   "metadata": {},
   "outputs": [],
   "source": [
    "kmeans=KMeans(featuresCol='feature',predictionCol='preds',k=3)"
   ]
  },
  {
   "cell_type": "code",
   "execution_count": 145,
   "id": "65af0d79",
   "metadata": {},
   "outputs": [],
   "source": [
    "from pyspark.ml.pipeline import Pipeline\n",
    "pip=Pipeline(stages=[vectasm1,kmeans])"
   ]
  },
  {
   "cell_type": "code",
   "execution_count": 146,
   "id": "1832d059",
   "metadata": {},
   "outputs": [],
   "source": [
    "model=pip.fit(df_final)"
   ]
  },
  {
   "cell_type": "code",
   "execution_count": 147,
   "id": "c83ed7c5",
   "metadata": {},
   "outputs": [],
   "source": [
    "preds_df=model.transform(df_final)"
   ]
  },
  {
   "cell_type": "code",
   "execution_count": 148,
   "id": "335e08e2",
   "metadata": {},
   "outputs": [],
   "source": [
    "predictions=preds_df.select('x','y','preds')"
   ]
  },
  {
   "cell_type": "code",
   "execution_count": 149,
   "id": "7b4c2cb9",
   "metadata": {},
   "outputs": [],
   "source": [
    "pandas_preds=predictions.toPandas()"
   ]
  },
  {
   "cell_type": "code",
   "execution_count": 150,
   "id": "0bbd733c",
   "metadata": {},
   "outputs": [
    {
     "data": {
      "text/html": [
       "<div>\n",
       "<style scoped>\n",
       "    .dataframe tbody tr th:only-of-type {\n",
       "        vertical-align: middle;\n",
       "    }\n",
       "\n",
       "    .dataframe tbody tr th {\n",
       "        vertical-align: top;\n",
       "    }\n",
       "\n",
       "    .dataframe thead th {\n",
       "        text-align: right;\n",
       "    }\n",
       "</style>\n",
       "<table border=\"1\" class=\"dataframe\">\n",
       "  <thead>\n",
       "    <tr style=\"text-align: right;\">\n",
       "      <th></th>\n",
       "      <th>x</th>\n",
       "      <th>y</th>\n",
       "      <th>preds</th>\n",
       "    </tr>\n",
       "  </thead>\n",
       "  <tbody>\n",
       "    <tr>\n",
       "      <th>0</th>\n",
       "      <td>0.689927</td>\n",
       "      <td>-7.790698</td>\n",
       "      <td>1</td>\n",
       "    </tr>\n",
       "    <tr>\n",
       "      <th>1</th>\n",
       "      <td>-9.326063</td>\n",
       "      <td>5.669771</td>\n",
       "      <td>2</td>\n",
       "    </tr>\n",
       "    <tr>\n",
       "      <th>2</th>\n",
       "      <td>-8.344055</td>\n",
       "      <td>6.009662</td>\n",
       "      <td>2</td>\n",
       "    </tr>\n",
       "    <tr>\n",
       "      <th>3</th>\n",
       "      <td>-8.220472</td>\n",
       "      <td>6.551106</td>\n",
       "      <td>2</td>\n",
       "    </tr>\n",
       "    <tr>\n",
       "      <th>4</th>\n",
       "      <td>-0.986486</td>\n",
       "      <td>8.228586</td>\n",
       "      <td>0</td>\n",
       "    </tr>\n",
       "  </tbody>\n",
       "</table>\n",
       "</div>"
      ],
      "text/plain": [
       "          x         y  preds\n",
       "0  0.689927 -7.790698      1\n",
       "1 -9.326063  5.669771      2\n",
       "2 -8.344055  6.009662      2\n",
       "3 -8.220472  6.551106      2\n",
       "4 -0.986486  8.228586      0"
      ]
     },
     "execution_count": 150,
     "metadata": {},
     "output_type": "execute_result"
    }
   ],
   "source": [
    "pandas_preds.head()"
   ]
  },
  {
   "cell_type": "code",
   "execution_count": 151,
   "id": "9296d3b0",
   "metadata": {},
   "outputs": [
    {
     "name": "stderr",
     "output_type": "stream",
     "text": [
      "/home/mohand/anaconda3/lib/python3.8/site-packages/seaborn/_decorators.py:36: FutureWarning: Pass the following variables as keyword args: x, y. From version 0.12, the only valid positional argument will be `data`, and passing other arguments without an explicit keyword will result in an error or misinterpretation.\n",
      "  warnings.warn(\n"
     ]
    },
    {
     "data": {
      "image/png": "[encoded data removed]",
      "text/plain": [
       "<Figure size 432x288 with 1 Axes>"
      ]
     },
     "metadata": {
      "needs_background": "light"
     },
     "output_type": "display_data"
    }
   ],
   "source": [
    "sns.scatterplot(pandas_preds['x'],pandas_preds['y'],hue=pandas_preds['preds']);"
   ]
  },
  {
   "cell_type": "code",
   "execution_count": 152,
   "id": "e7b10379",
   "metadata": {},
   "outputs": [],
   "source": [
    "from pyspark.ml.evaluation import ClusteringEvaluator"
   ]
  },
  {
   "cell_type": "code",
   "execution_count": 153,
   "id": "a5b0ee23",
   "metadata": {},
   "outputs": [],
   "source": [
    "kmev=ClusteringEvaluator(featuresCol='feature',predictionCol='preds')"
   ]
  },
  {
   "cell_type": "code",
   "execution_count": 154,
   "id": "be0dd84c",
   "metadata": {},
   "outputs": [
    {
     "data": {
      "text/plain": [
       "0.9447206969084606"
      ]
     },
     "execution_count": 154,
     "metadata": {},
     "output_type": "execute_result"
    }
   ],
   "source": [
    "kmev.evaluate(final_df)"
   ]
  },
  {
   "cell_type": "code",
   "execution_count": null,
   "id": "2f644a44",
   "metadata": {},
   "outputs": [],
   "source": []
  }
 ],
 "metadata": {
  "kernelspec": {
   "display_name": "Python 3 (ipykernel)",
   "language": "python",
   "name": "python3"
  },
  "language_info": {
   "codemirror_mode": {
    "name": "ipython",
    "version": 3
   },
   "file_extension": ".py",
   "mimetype": "text/x-python",
   "name": "python",
   "nbconvert_exporter": "python",
   "pygments_lexer": "ipython3",
   "version": "3.8.8"
  }
 },
 "nbformat": 4,
 "nbformat_minor": 5
}
