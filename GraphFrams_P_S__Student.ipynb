{
  "cells": [
    {
      "cell_type": "markdown",
      "id": "779b346d",
      "metadata": {
        "id": "779b346d"
      },
      "source": [
        "## The following section is for Colab Users.\n",
        "### Just run the following code cells"
      ]
    },
    {
      "cell_type": "code",
      "execution_count": null,
      "id": "7d73eb01",
      "metadata": {
        "colab": {
          "base_uri": "https://localhost:8080/"
        },
        "id": "7d73eb01",
        "outputId": "fdc39fe8-2e92-4d52-b874-fbc7571c4211"
      },
      "outputs": [
        {
          "output_type": "stream",
          "name": "stdout",
          "text": [
            "\u001b[K     |████████████████████████████████| 281.3 MB 47 kB/s \n",
            "\u001b[K     |████████████████████████████████| 199 kB 44.4 MB/s \n",
            "\u001b[K     |████████████████████████████████| 154 kB 51.9 MB/s \n",
            "\u001b[?25h  Building wheel for pyspark (setup.py) ... \u001b[?25l\u001b[?25hdone\n"
          ]
        }
      ],
      "source": [
        "!apt-get install openjdk-11-jdk-headless -qq > /dev/null\n",
        "!wget -q https://bitbucket.org/habedi/datasets/raw/b6769c4664e7ff68b001e2f43bc517888cbe3642/spark/spark-3.0.2-bin-hadoop2.7.tgz\n",
        "!tar xf spark-3.0.2-bin-hadoop2.7.tgz\n",
        "!rm -rf spark-3.0.2-bin-hadoop2.7.tgz*\n",
        "!pip -q install findspark pyspark graphframes"
      ]
    },
    {
      "cell_type": "code",
      "execution_count": null,
      "id": "299e0d6a",
      "metadata": {
        "colab": {
          "base_uri": "https://localhost:8080/"
        },
        "id": "299e0d6a",
        "outputId": "3c3137e2-8a70-461d-c477-9fb0787d6a34"
      },
      "outputs": [
        {
          "output_type": "stream",
          "name": "stdout",
          "text": [
            "--2022-07-13 20:28:18--  https://repos.spark-packages.org/graphframes/graphframes/0.8.2-spark3.0-s_2.12/graphframes-0.8.2-spark3.0-s_2.12.jar\n",
            "Resolving repos.spark-packages.org (repos.spark-packages.org)... 54.192.18.81, 54.192.18.30, 54.192.18.122, ...\n",
            "Connecting to repos.spark-packages.org (repos.spark-packages.org)|54.192.18.81|:443... connected.\n",
            "HTTP request sent, awaiting response... 200 OK\n",
            "Length: 247882 (242K) [binary/octet-stream]\n",
            "Saving to: ‘/content/spark-3.0.2-bin-hadoop2.7/jars/graphframes-0.8.2-spark3.0-s_2.12.jar’\n",
            "\n",
            "graphframes-0.8.2-s 100%[===================>] 242.07K  --.-KB/s    in 0.04s   \n",
            "\n",
            "2022-07-13 20:28:18 (6.20 MB/s) - ‘/content/spark-3.0.2-bin-hadoop2.7/jars/graphframes-0.8.2-spark3.0-s_2.12.jar’ saved [247882/247882]\n",
            "\n"
          ]
        }
      ],
      "source": [
        "!wget https://repos.spark-packages.org/graphframes/graphframes/0.8.2-spark3.0-s_2.12/graphframes-0.8.2-spark3.0-s_2.12.jar -P /content/spark-3.0.2-bin-hadoop2.7/jars/\n",
        "!cp /content/spark-3.0.2-bin-hadoop2.7/jars/graphframes-0.8.2-spark3.0-s_2.12.jar /content/spark-3.0.2-bin-hadoop2.7/graphframes-0.8.2-spark3.0-s_2.12.zip"
      ]
    },
    {
      "cell_type": "code",
      "execution_count": null,
      "id": "ee0d39ec",
      "metadata": {
        "id": "ee0d39ec"
      },
      "outputs": [],
      "source": [
        "import os\n",
        "\n",
        "os.environ[\"JAVA_HOME\"] = \"/usr/lib/jvm/java-11-openjdk-amd64\"\n",
        "os.environ[\"SPARK_HOME\"] = \"/content/spark-3.0.2-bin-hadoop2.7\"\n",
        "os.environ[\"HADOOP_HOME\"] = os.environ[\"SPARK_HOME\"]\n",
        "\n",
        "os.environ[\"PYSPARK_DRIVER_PYTHON\"] = \"jupyter\"\n",
        "os.environ[\"PYSPARK_DRIVER_PYTHON_OPTS\"] = \"notebook\"\n",
        "os.environ[\"PYSPARK_SUBMIT_ARGS\"] = \"--master local[*] pyspark-shell\""
      ]
    },
    {
      "cell_type": "code",
      "execution_count": null,
      "id": "7136d8e6",
      "metadata": {
        "id": "7136d8e6"
      },
      "outputs": [],
      "source": [
        "import findspark\n",
        "findspark.init()"
      ]
    },
    {
      "cell_type": "code",
      "execution_count": null,
      "id": "92f3e19b",
      "metadata": {
        "id": "92f3e19b"
      },
      "outputs": [],
      "source": [
        "!export PYSPARK_SUBMIT_ARGS=\"--master local[*] pyspark-shell\"\n",
        "!export PYSPARK_DRIVER_PYTHON=jupyter\n",
        "!export PYSPARK_DRIVER_PYTHON_OPTS=notebook"
      ]
    },
    {
      "cell_type": "code",
      "execution_count": null,
      "id": "f1504ff4",
      "metadata": {
        "id": "f1504ff4"
      },
      "outputs": [],
      "source": [
        "from pyspark.sql import SparkSession\n",
        "from graphframes import *\n",
        "\n",
        "spark = SparkSession.builder.master(\"local[*]\").appName(\"GraphFrames\").getOrCreate()"
      ]
    },
    {
      "cell_type": "code",
      "execution_count": null,
      "id": "252db99a",
      "metadata": {
        "id": "252db99a"
      },
      "outputs": [],
      "source": [
        "os.environ[\"PYSPARK_SUBMIT_ARGS\"] = \"--packages graphframes:graphframes:0.8.1-spark3.0-s_2.12 pyspark-shell\""
      ]
    },
    {
      "cell_type": "markdown",
      "id": "66232934",
      "metadata": {
        "id": "66232934"
      },
      "source": [
        "**************************************************************************\n",
        "**************************************************************************\n",
        "**************************************************************************"
      ]
    },
    {
      "cell_type": "code",
      "execution_count": null,
      "id": "c90808ca",
      "metadata": {
        "id": "c90808ca"
      },
      "outputs": [],
      "source": [
        "from pyspark.sql import SparkSession\n",
        "from pyspark.sql.functions import *\n",
        "from pyspark.sql.types import *\n",
        "import pyspark\n",
        "from pyspark.sql import SparkSession\n",
        "from pyspark.sql.functions import split , explode\n",
        "from pyspark.sql.types import *"
      ]
    },
    {
      "cell_type": "code",
      "execution_count": null,
      "id": "2a0819b3",
      "metadata": {
        "colab": {
          "base_uri": "https://localhost:8080/",
          "height": 17
        },
        "id": "2a0819b3",
        "outputId": "10ef6b87-c7a9-477f-ebde-396d4bac839d"
      },
      "outputs": [
        {
          "output_type": "display_data",
          "data": {
            "text/plain": [
              "<IPython.core.display.HTML object>"
            ],
            "text/html": [
              "<style>pre { white-space: pre !important; }</style>"
            ]
          },
          "metadata": {}
        }
      ],
      "source": [
        "from IPython.display import display, HTML\n",
        "display(HTML(\"<style>pre { white-space: pre !important; }</style>\"))"
      ]
    },
    {
      "cell_type": "markdown",
      "id": "d7f57da0",
      "metadata": {
        "id": "d7f57da0"
      },
      "source": [
        "### Read departuredelays.csv in Edge DataFrame\n",
        "### Read airport-codes-na.txt in Vertix DataFrame (the separator is Tab i.e sep = '\\t' )"
      ]
    },
    {
      "cell_type": "markdown",
      "id": "631c334e",
      "metadata": {
        "id": "631c334e"
      },
      "source": [
        "#### The US flight delays data set has five columns:\n",
        "- The <b>date</b> column contains an integer like 02190925 . When converted, this maps to 02-19 09:25 am.\n",
        "- The <b>delay</b> column gives the delay in minutes between the scheduled and actual departure times. Early departures show negative numbers.\n",
        "- The <b>distance</b> column gives the distance in miles from the origin airport to the destination airport.\n",
        "- The <b>origin</b> column contains the origin IATA airport code.\n",
        "- The <b>destination</b> column contains the destination IATA airport code.\n",
        "\n",
        "#### The airport-codes data set has four columns:\n",
        "- The <b>IATA</b> column contains IATA airport code.\n",
        "- The <b>City, State, and Country</b> columns contains information about the airport location. "
      ]
    },
    {
      "cell_type": "code",
      "execution_count": null,
      "id": "30f02a5a",
      "metadata": {
        "id": "30f02a5a"
      },
      "outputs": [],
      "source": [
        "vertx = spark.read.csv(\"/content/airport-codes-na.txt\", header = True, inferSchema='true', sep='\\t')"
      ]
    },
    {
      "cell_type": "code",
      "source": [
        "vertx.show()"
      ],
      "metadata": {
        "colab": {
          "base_uri": "https://localhost:8080/"
        },
        "id": "gv5-EchwwUfi",
        "outputId": "c6b2ef5b-e1d2-4050-9028-efc7e9dcf42a"
      },
      "id": "gv5-EchwwUfi",
      "execution_count": null,
      "outputs": [
        {
          "output_type": "stream",
          "name": "stdout",
          "text": [
            "+-----------+-----+-------+----+\n",
            "|       City|State|Country|IATA|\n",
            "+-----------+-----+-------+----+\n",
            "| Abbotsford|   BC| Canada| YXX|\n",
            "|   Aberdeen|   SD|    USA| ABR|\n",
            "|    Abilene|   TX|    USA| ABI|\n",
            "|      Akron|   OH|    USA| CAK|\n",
            "|    Alamosa|   CO|    USA| ALS|\n",
            "|     Albany|   GA|    USA| ABY|\n",
            "|     Albany|   NY|    USA| ALB|\n",
            "|Albuquerque|   NM|    USA| ABQ|\n",
            "| Alexandria|   LA|    USA| AEX|\n",
            "|  Allentown|   PA|    USA| ABE|\n",
            "|   Alliance|   NE|    USA| AIA|\n",
            "|     Alpena|   MI|    USA| APN|\n",
            "|    Altoona|   PA|    USA| AOO|\n",
            "|   Amarillo|   TX|    USA| AMA|\n",
            "|Anahim Lake|   BC| Canada| YAA|\n",
            "|  Anchorage|   AK|    USA| ANC|\n",
            "|   Appleton|   WI|    USA| ATW|\n",
            "|     Arviat|  NWT| Canada| YEK|\n",
            "|  Asheville|   NC|    USA| AVL|\n",
            "|      Aspen|   CO|    USA| ASE|\n",
            "+-----------+-----+-------+----+\n",
            "only showing top 20 rows\n",
            "\n"
          ]
        }
      ]
    },
    {
      "cell_type": "code",
      "source": [
        "print(vertx.count())"
      ],
      "metadata": {
        "colab": {
          "base_uri": "https://localhost:8080/"
        },
        "id": "WkSSzVnuwlaa",
        "outputId": "dfcbe430-7712-4848-afb8-1195001b3790"
      },
      "id": "WkSSzVnuwlaa",
      "execution_count": null,
      "outputs": [
        {
          "output_type": "stream",
          "name": "stdout",
          "text": [
            "526\n"
          ]
        }
      ]
    },
    {
      "cell_type": "markdown",
      "id": "e1d90463",
      "metadata": {
        "id": "e1d90463"
      },
      "source": [
        "### In the vertix DataFrame, drop any duplicated rows with the same  IATA code."
      ]
    },
    {
      "cell_type": "code",
      "execution_count": null,
      "id": "15571db4",
      "metadata": {
        "colab": {
          "base_uri": "https://localhost:8080/"
        },
        "id": "15571db4",
        "outputId": "6d06cc27-c5e8-452f-e4eb-6e924d4a1565"
      },
      "outputs": [
        {
          "output_type": "stream",
          "name": "stdout",
          "text": [
            "+-------------------+-----+-------+----+\n",
            "|               City|State|Country|IATA|\n",
            "+-------------------+-----+-------+----+\n",
            "|         Binghamton|   NY|    USA| BGM|\n",
            "|            Lebanon|   NH|    USA| LEB|\n",
            "|           Montreal|   PQ| Canada| YUL|\n",
            "|         Dillingham|   AK|    USA| DLG|\n",
            "|International Falls|   MN|    USA| INL|\n",
            "|         Wolf Point|   MT|    USA| OLF|\n",
            "|        New Orleans|   LA|    USA| MSY|\n",
            "|            Toronto|   ON| Canada| YTO|\n",
            "|            Spokane|   WA|    USA| GEG|\n",
            "|              Havre|   MT|    USA| HVR|\n",
            "|            Burbank|   CA|    USA| BUR|\n",
            "|      Orange County|   CA|    USA| SNA|\n",
            "|             Dryden|   ON| Canada| YHD|\n",
            "|         Fort Dodge|   IA|    USA| FOD|\n",
            "|          Green Bay|   WI|    USA| GRB|\n",
            "|        Great Falls|   MT|    USA| GTF|\n",
            "|              Homer|   AK|    USA| HOM|\n",
            "|        Idaho Falls|   ID|    USA| IDA|\n",
            "|      Sioux Lookout|   ON| Canada| YXL|\n",
            "|       Grand Rapids|   MI|    USA| GRR|\n",
            "+-------------------+-----+-------+----+\n",
            "only showing top 20 rows\n",
            "\n"
          ]
        }
      ],
      "source": [
        "vertx = vertx.dropDuplicates(['IATA'])\n",
        "vertx.show()"
      ]
    },
    {
      "cell_type": "code",
      "source": [
        "print(vertx.count())"
      ],
      "metadata": {
        "colab": {
          "base_uri": "https://localhost:8080/"
        },
        "id": "3CfMO1sQxLtn",
        "outputId": "8c651ec3-a3c7-48a5-ef8e-01067d35ff17"
      },
      "id": "3CfMO1sQxLtn",
      "execution_count": null,
      "outputs": [
        {
          "output_type": "stream",
          "name": "stdout",
          "text": [
            "524\n"
          ]
        }
      ]
    },
    {
      "cell_type": "markdown",
      "id": "83d1dea8",
      "metadata": {
        "id": "83d1dea8"
      },
      "source": [
        "### In the edges DataFrame:\n",
        "- Rename the <b>date</b> columns to become <b>tripid</b>.\n",
        "- Rename the <b>origin</b> columns to become <b>src</b>.\n",
        "- Rename the <b>destination</b> columns to become <b>dst</b>."
      ]
    },
    {
      "cell_type": "code",
      "execution_count": null,
      "id": "5319e844",
      "metadata": {
        "colab": {
          "base_uri": "https://localhost:8080/"
        },
        "id": "5319e844",
        "outputId": "5cc0b428-cb82-42ff-e989-57a9c4a86dd7"
      },
      "outputs": [
        {
          "output_type": "stream",
          "name": "stdout",
          "text": [
            "+-------+-----+--------+------+-----------+\n",
            "|   date|delay|distance|origin|destination|\n",
            "+-------+-----+--------+------+-----------+\n",
            "|1011245|    6|     602|   ABE|        ATL|\n",
            "|1020600|   -8|     369|   ABE|        DTW|\n",
            "|1021245|   -2|     602|   ABE|        ATL|\n",
            "|1020605|   -4|     602|   ABE|        ATL|\n",
            "|1031245|   -4|     602|   ABE|        ATL|\n",
            "|1030605|    0|     602|   ABE|        ATL|\n",
            "|1041243|   10|     602|   ABE|        ATL|\n",
            "|1040605|   28|     602|   ABE|        ATL|\n",
            "|1051245|   88|     602|   ABE|        ATL|\n",
            "|1050605|    9|     602|   ABE|        ATL|\n",
            "|1061215|   -6|     602|   ABE|        ATL|\n",
            "|1061725|   69|     602|   ABE|        ATL|\n",
            "|1061230|    0|     369|   ABE|        DTW|\n",
            "|1060625|   -3|     602|   ABE|        ATL|\n",
            "|1070600|    0|     369|   ABE|        DTW|\n",
            "|1071725|    0|     602|   ABE|        ATL|\n",
            "|1071230|    0|     369|   ABE|        DTW|\n",
            "|1070625|    0|     602|   ABE|        ATL|\n",
            "|1071219|    0|     569|   ABE|        ORD|\n",
            "|1080600|    0|     369|   ABE|        DTW|\n",
            "+-------+-----+--------+------+-----------+\n",
            "only showing top 20 rows\n",
            "\n"
          ]
        }
      ],
      "source": [
        "edges = spark.read.csv(\"/content/departuredelays.csv\", header= True, inferSchema= True)\n",
        "edges.show()"
      ]
    },
    {
      "cell_type": "code",
      "source": [
        "edges = edges.withColumnRenamed(\"date\",\"tripid\")\\\n",
        ".withColumnRenamed(\"origin\",\"src\")\\\n",
        ".withColumnRenamed(\"destination\",\"dst\")\n",
        "edges.printSchema()"
      ],
      "metadata": {
        "colab": {
          "base_uri": "https://localhost:8080/"
        },
        "id": "sUwHrrUZRyS4",
        "outputId": "bac16b6d-d0cf-4db9-abf1-7190ebcb57a9"
      },
      "id": "sUwHrrUZRyS4",
      "execution_count": null,
      "outputs": [
        {
          "output_type": "stream",
          "name": "stdout",
          "text": [
            "root\n",
            " |-- tripid: integer (nullable = true)\n",
            " |-- delay: integer (nullable = true)\n",
            " |-- distance: integer (nullable = true)\n",
            " |-- src: string (nullable = true)\n",
            " |-- dst: string (nullable = true)\n",
            "\n"
          ]
        }
      ]
    },
    {
      "cell_type": "markdown",
      "id": "260660dc",
      "metadata": {
        "id": "260660dc"
      },
      "source": [
        "### In the Vertix DataFrame:\n",
        "- Rename the <b>IATA</b> columns to become <b>id</b>."
      ]
    },
    {
      "cell_type": "code",
      "execution_count": null,
      "id": "42846969",
      "metadata": {
        "scrolled": false,
        "colab": {
          "base_uri": "https://localhost:8080/"
        },
        "id": "42846969",
        "outputId": "9696644e-6593-4201-f4cc-20d53221ec5d"
      },
      "outputs": [
        {
          "output_type": "stream",
          "name": "stdout",
          "text": [
            "root\n",
            " |-- City: string (nullable = true)\n",
            " |-- State: string (nullable = true)\n",
            " |-- Country: string (nullable = true)\n",
            " |-- id: string (nullable = true)\n",
            "\n"
          ]
        }
      ],
      "source": [
        "vertx = vertx.withColumnRenamed(\"IATA\",\"id\")\n",
        "vertx.printSchema()"
      ]
    },
    {
      "cell_type": "markdown",
      "id": "4b50a1fe",
      "metadata": {
        "id": "4b50a1fe"
      },
      "source": [
        "### Create GraphFrame from Vertix and Edges DataFrames"
      ]
    },
    {
      "cell_type": "code",
      "execution_count": null,
      "id": "72be9d09",
      "metadata": {
        "id": "72be9d09"
      },
      "outputs": [],
      "source": [
        "gf1 = GraphFrame(vertx, edges)"
      ]
    },
    {
      "cell_type": "code",
      "source": [
        "gf1.vertices.show()"
      ],
      "metadata": {
        "colab": {
          "base_uri": "https://localhost:8080/"
        },
        "id": "cT1dbRVNTP-1",
        "outputId": "72473924-f34a-413d-8cf2-c5c35dfd0609"
      },
      "id": "cT1dbRVNTP-1",
      "execution_count": null,
      "outputs": [
        {
          "output_type": "stream",
          "name": "stdout",
          "text": [
            "+-------------------+-----+-------+---+\n",
            "|               City|State|Country| id|\n",
            "+-------------------+-----+-------+---+\n",
            "|         Binghamton|   NY|    USA|BGM|\n",
            "|            Lebanon|   NH|    USA|LEB|\n",
            "|           Montreal|   PQ| Canada|YUL|\n",
            "|         Dillingham|   AK|    USA|DLG|\n",
            "|International Falls|   MN|    USA|INL|\n",
            "|         Wolf Point|   MT|    USA|OLF|\n",
            "|        New Orleans|   LA|    USA|MSY|\n",
            "|            Toronto|   ON| Canada|YTO|\n",
            "|            Spokane|   WA|    USA|GEG|\n",
            "|              Havre|   MT|    USA|HVR|\n",
            "|            Burbank|   CA|    USA|BUR|\n",
            "|      Orange County|   CA|    USA|SNA|\n",
            "|             Dryden|   ON| Canada|YHD|\n",
            "|         Fort Dodge|   IA|    USA|FOD|\n",
            "|          Green Bay|   WI|    USA|GRB|\n",
            "|        Great Falls|   MT|    USA|GTF|\n",
            "|              Homer|   AK|    USA|HOM|\n",
            "|        Idaho Falls|   ID|    USA|IDA|\n",
            "|      Sioux Lookout|   ON| Canada|YXL|\n",
            "|       Grand Rapids|   MI|    USA|GRR|\n",
            "+-------------------+-----+-------+---+\n",
            "only showing top 20 rows\n",
            "\n"
          ]
        }
      ]
    },
    {
      "cell_type": "code",
      "source": [
        "gf1.edges.show(10)"
      ],
      "metadata": {
        "colab": {
          "base_uri": "https://localhost:8080/"
        },
        "id": "EEs3rGx2Uibj",
        "outputId": "cf8c682c-93ba-4a1b-cfd2-2d3107220b9c"
      },
      "id": "EEs3rGx2Uibj",
      "execution_count": null,
      "outputs": [
        {
          "output_type": "stream",
          "name": "stdout",
          "text": [
            "+-------+-----+--------+---+---+\n",
            "| tripid|delay|distance|src|dst|\n",
            "+-------+-----+--------+---+---+\n",
            "|1011245|    6|     602|ABE|ATL|\n",
            "|1020600|   -8|     369|ABE|DTW|\n",
            "|1021245|   -2|     602|ABE|ATL|\n",
            "|1020605|   -4|     602|ABE|ATL|\n",
            "|1031245|   -4|     602|ABE|ATL|\n",
            "|1030605|    0|     602|ABE|ATL|\n",
            "|1041243|   10|     602|ABE|ATL|\n",
            "|1040605|   28|     602|ABE|ATL|\n",
            "|1051245|   88|     602|ABE|ATL|\n",
            "|1050605|    9|     602|ABE|ATL|\n",
            "+-------+-----+--------+---+---+\n",
            "only showing top 10 rows\n",
            "\n"
          ]
        }
      ]
    },
    {
      "cell_type": "markdown",
      "id": "abd2ebc6",
      "metadata": {
        "id": "abd2ebc6"
      },
      "source": [
        "### Determine the number of airports"
      ]
    },
    {
      "cell_type": "code",
      "execution_count": null,
      "id": "f38688c9",
      "metadata": {
        "colab": {
          "base_uri": "https://localhost:8080/"
        },
        "id": "f38688c9",
        "outputId": "4d697c63-6a31-462a-f4ad-c3e2a4db6c43"
      },
      "outputs": [
        {
          "output_type": "stream",
          "name": "stdout",
          "text": [
            "Airports number =  524\n"
          ]
        }
      ],
      "source": [
        "print(\"Airports number = \",gf1.vertices.count())"
      ]
    },
    {
      "cell_type": "markdown",
      "id": "435187a8",
      "metadata": {
        "id": "435187a8"
      },
      "source": [
        "### Determine the number of trips "
      ]
    },
    {
      "cell_type": "code",
      "execution_count": null,
      "id": "db2a507d",
      "metadata": {
        "colab": {
          "base_uri": "https://localhost:8080/"
        },
        "id": "db2a507d",
        "outputId": "49ec14cf-262b-47ec-dc9b-817780fc7393"
      },
      "outputs": [
        {
          "output_type": "stream",
          "name": "stdout",
          "text": [
            "Trips number =  1391578\n"
          ]
        }
      ],
      "source": [
        "print(\"Trips number = \",gf1.edges.count())\n"
      ]
    },
    {
      "cell_type": "markdown",
      "id": "dec8731f",
      "metadata": {
        "id": "dec8731f"
      },
      "source": [
        "### What is the longest delay?"
      ]
    },
    {
      "cell_type": "code",
      "execution_count": null,
      "id": "df3d6aac",
      "metadata": {
        "colab": {
          "base_uri": "https://localhost:8080/"
        },
        "id": "df3d6aac",
        "outputId": "85d1d7ee-c857-41ba-c722-11aef1da7258"
      },
      "outputs": [
        {
          "output_type": "stream",
          "name": "stdout",
          "text": [
            "+----------+\n",
            "|max(delay)|\n",
            "+----------+\n",
            "|      1642|\n",
            "+----------+\n",
            "\n"
          ]
        }
      ],
      "source": [
        "gf1.edges.groupBy().max(\"delay\").show()"
      ]
    },
    {
      "cell_type": "code",
      "source": [
        ""
      ],
      "metadata": {
        "id": "NdyxZicKq68b"
      },
      "id": "NdyxZicKq68b",
      "execution_count": null,
      "outputs": []
    },
    {
      "cell_type": "markdown",
      "id": "202d888c",
      "metadata": {
        "id": "202d888c"
      },
      "source": [
        "### Find out the number of delayed flights vs. early flights (flights that departed before actual time)"
      ]
    },
    {
      "cell_type": "code",
      "execution_count": null,
      "id": "7cdd7ff7",
      "metadata": {
        "colab": {
          "base_uri": "https://localhost:8080/"
        },
        "id": "7cdd7ff7",
        "outputId": "1867cd84-c9c2-4366-9454-38d1703d92db"
      },
      "outputs": [
        {
          "output_type": "stream",
          "name": "stdout",
          "text": [
            "Number of delayed flights :  591727\n",
            "Number of early flights :  799851\n"
          ]
        }
      ],
      "source": [
        "print(\"Number of delayed flights : \", gf1.filterEdges(\"delay > 0\").edges.count())\n",
        "print(\"Number of early flights : \", gf1.filterEdges(\"delay <= 0\").edges.count())"
      ]
    },
    {
      "cell_type": "markdown",
      "id": "30961bc3",
      "metadata": {
        "id": "30961bc3"
      },
      "source": [
        "### What flight destinations departing SFO are most likely to have significant delays? Select the top 10\n",
        "#### Hint: you should get the average delay for each destination for trips that depart from SFO only"
      ]
    },
    {
      "cell_type": "code",
      "execution_count": null,
      "id": "afdc6842",
      "metadata": {
        "colab": {
          "base_uri": "https://localhost:8080/"
        },
        "id": "afdc6842",
        "outputId": "1909b399-8689-4175-a351-1f9c430452f6"
      },
      "outputs": [
        {
          "output_type": "stream",
          "name": "stdout",
          "text": [
            "+---+------------------+\n",
            "|dst|        avg(delay)|\n",
            "+---+------------------+\n",
            "|OKC|59.073170731707314|\n",
            "|JAC| 57.13333333333333|\n",
            "|COS|53.976190476190474|\n",
            "|OTH| 48.09090909090909|\n",
            "|SAT|            47.625|\n",
            "|MOD| 46.80952380952381|\n",
            "|SUN|46.723404255319146|\n",
            "|CIC| 46.72164948453608|\n",
            "|ABQ|           44.8125|\n",
            "|ASE|44.285714285714285|\n",
            "+---+------------------+\n",
            "only showing top 10 rows\n",
            "\n"
          ]
        }
      ],
      "source": [
        "gf1.edges.filter(\"src = 'SFO' and delay > 0\").groupBy(\"dst\").avg(\"delay\").orderBy(col(\"avg(delay)\").desc()).show(10)"
      ]
    },
    {
      "cell_type": "markdown",
      "id": "71d46665",
      "metadata": {
        "id": "71d46665"
      },
      "source": [
        "### Find the Incoming connections to the airport sorted in Desc. order."
      ]
    },
    {
      "cell_type": "code",
      "execution_count": null,
      "id": "c28925c3",
      "metadata": {
        "colab": {
          "base_uri": "https://localhost:8080/"
        },
        "id": "c28925c3",
        "outputId": "6a82bf4d-17cc-40ad-92e9-2fa277616891"
      },
      "outputs": [
        {
          "output_type": "stream",
          "name": "stdout",
          "text": [
            "+---+--------+\n",
            "| id|inDegree|\n",
            "+---+--------+\n",
            "|ATL|   90434|\n",
            "|DFW|   66050|\n",
            "|ORD|   61967|\n",
            "|LAX|   53601|\n",
            "|DEN|   50921|\n",
            "|IAH|   42700|\n",
            "|PHX|   39721|\n",
            "|SFO|   38988|\n",
            "|LAS|   32994|\n",
            "|CLT|   28388|\n",
            "|MCO|   27959|\n",
            "|EWR|   27652|\n",
            "|LGA|   25469|\n",
            "|BOS|   25360|\n",
            "|SLC|   25323|\n",
            "|JFK|   23484|\n",
            "|DTW|   23310|\n",
            "|SEA|   23074|\n",
            "|MSP|   22385|\n",
            "|MIA|   21805|\n",
            "+---+--------+\n",
            "only showing top 20 rows\n",
            "\n"
          ]
        }
      ],
      "source": [
        "gf1.inDegrees.sort(col(\"inDegree\").desc()).show()"
      ]
    },
    {
      "cell_type": "markdown",
      "id": "d1b6509d",
      "metadata": {
        "id": "d1b6509d"
      },
      "source": [
        "### Find the Outgoing connections from the airport sorted in Desc. order."
      ]
    },
    {
      "cell_type": "code",
      "execution_count": null,
      "id": "631af51d",
      "metadata": {
        "colab": {
          "base_uri": "https://localhost:8080/"
        },
        "id": "631af51d",
        "outputId": "8135deb9-5803-4d05-f5ae-e37981956274"
      },
      "outputs": [
        {
          "output_type": "stream",
          "name": "stdout",
          "text": [
            "+---+---------+\n",
            "| id|outDegree|\n",
            "+---+---------+\n",
            "|ATL|    91484|\n",
            "|DFW|    68482|\n",
            "|ORD|    64228|\n",
            "|LAX|    54086|\n",
            "|DEN|    53148|\n",
            "|IAH|    43361|\n",
            "|PHX|    40155|\n",
            "|SFO|    39483|\n",
            "|LAS|    33107|\n",
            "|CLT|    28402|\n",
            "|MCO|    28313|\n",
            "|EWR|    27656|\n",
            "|SLC|    25868|\n",
            "|LGA|    25458|\n",
            "|BOS|    25348|\n",
            "|MSP|    24031|\n",
            "|JFK|    23572|\n",
            "|DTW|    23421|\n",
            "|SEA|    23078|\n",
            "|MIA|    21817|\n",
            "+---+---------+\n",
            "only showing top 20 rows\n",
            "\n"
          ]
        }
      ],
      "source": [
        "gf1.outDegrees.sort(col(\"outDegree\").desc()).show()"
      ]
    },
    {
      "cell_type": "markdown",
      "id": "fbec58ce",
      "metadata": {
        "id": "fbec58ce"
      },
      "source": [
        "### Use motif finding to answer this question: which delays could we blame on SFO?\n",
        "#### Hint: this practically means that SFO is a transit station"
      ]
    },
    {
      "cell_type": "code",
      "execution_count": null,
      "id": "db17f3df",
      "metadata": {
        "colab": {
          "base_uri": "https://localhost:8080/"
        },
        "id": "db17f3df",
        "outputId": "3080e77b-e737-49ec-d21d-99f74fcf3844"
      },
      "outputs": [
        {
          "output_type": "stream",
          "name": "stdout",
          "text": [
            "+--------------------+--------------------+--------------------+--------------------+--------------------+\n",
            "|                  v1|                  e1|                  v2|                  e2|                  v3|\n",
            "+--------------------+--------------------+--------------------+--------------------+--------------------+\n",
            "|[Albuquerque, NM,...|[1010600, -7, 779...|[San Francisco, C...|[1021507, 536, 22...|[New York, NY, US...|\n",
            "|[Albuquerque, NM,...|[1010600, -7, 779...|[San Francisco, C...|[1211508, 593, 22...|[New York, NY, US...|\n",
            "|[Albuquerque, NM,...|[1010600, -7, 779...|[San Francisco, C...|[2092230, 636, 22...|[New York, NY, US...|\n",
            "|[Albuquerque, NM,...|[1010600, -7, 779...|[San Francisco, C...|[2092110, 740, 22...|[Miami, FL, USA, ...|\n",
            "|[Albuquerque, NM,...|[1010600, -7, 779...|[San Francisco, C...|[2190925, 1638, 1...|[Chicago, IL, USA...|\n",
            "|[Albuquerque, NM,...|[1010600, -7, 779...|[San Francisco, C...|[2030906, 516, 21...|[Philadelphia, PA...|\n",
            "|[Albuquerque, NM,...|[1010600, -7, 779...|[San Francisco, C...|[2131420, 504, 38...|[San Diego, CA, U...|\n",
            "|[Albuquerque, NM,...|[1020600, 0, 779,...|[San Francisco, C...|[1021507, 536, 22...|[New York, NY, US...|\n",
            "|[Albuquerque, NM,...|[1020600, 0, 779,...|[San Francisco, C...|[1211508, 593, 22...|[New York, NY, US...|\n",
            "|[Albuquerque, NM,...|[1020600, 0, 779,...|[San Francisco, C...|[2092230, 636, 22...|[New York, NY, US...|\n",
            "|[Albuquerque, NM,...|[1020600, 0, 779,...|[San Francisco, C...|[2092110, 740, 22...|[Miami, FL, USA, ...|\n",
            "|[Albuquerque, NM,...|[1020600, 0, 779,...|[San Francisco, C...|[2190925, 1638, 1...|[Chicago, IL, USA...|\n",
            "|[Albuquerque, NM,...|[1020600, 0, 779,...|[San Francisco, C...|[2030906, 516, 21...|[Philadelphia, PA...|\n",
            "|[Albuquerque, NM,...|[1020600, 0, 779,...|[San Francisco, C...|[2131420, 504, 38...|[San Diego, CA, U...|\n",
            "|[Albuquerque, NM,...|[1030600, -10, 77...|[San Francisco, C...|[1211508, 593, 22...|[New York, NY, US...|\n",
            "|[Albuquerque, NM,...|[1030600, -10, 77...|[San Francisco, C...|[2092230, 636, 22...|[New York, NY, US...|\n",
            "|[Albuquerque, NM,...|[1030600, -10, 77...|[San Francisco, C...|[2092110, 740, 22...|[Miami, FL, USA, ...|\n",
            "|[Albuquerque, NM,...|[1030600, -10, 77...|[San Francisco, C...|[2190925, 1638, 1...|[Chicago, IL, USA...|\n",
            "|[Albuquerque, NM,...|[1030600, -10, 77...|[San Francisco, C...|[2030906, 516, 21...|[Philadelphia, PA...|\n",
            "|[Albuquerque, NM,...|[1030600, -10, 77...|[San Francisco, C...|[2131420, 504, 38...|[San Diego, CA, U...|\n",
            "+--------------------+--------------------+--------------------+--------------------+--------------------+\n",
            "only showing top 20 rows\n",
            "\n"
          ]
        }
      ],
      "source": [
        "motiv = gf1.find(\"(v1)-[e1]->(v2); (v2)-[e2]->(v3)\").filter(\"(v2.id = 'SFO') and (e2.delay > 500 ) and (e2.tripid > e1.tripid)\")\n",
        "motiv.show()"
      ]
    },
    {
      "cell_type": "markdown",
      "id": "cc1ece96",
      "metadata": {
        "id": "cc1ece96"
      },
      "source": [
        "### Determine Airport Ranking in Desc. order using PageRank algorithm"
      ]
    },
    {
      "cell_type": "code",
      "execution_count": null,
      "id": "f754d545",
      "metadata": {
        "id": "f754d545"
      },
      "outputs": [],
      "source": [
        "ranks = gf1.pageRank(resetProbability=0.15, maxIter=5)"
      ]
    },
    {
      "cell_type": "code",
      "source": [
        "ranks.vertices.orderBy(desc(\"pagerank\")).show()"
      ],
      "metadata": {
        "colab": {
          "base_uri": "https://localhost:8080/"
        },
        "id": "AkoakPBjuD4l",
        "outputId": "72682dc5-4d5a-4de9-dbae-06021b27334e"
      },
      "id": "AkoakPBjuD4l",
      "execution_count": null,
      "outputs": [
        {
          "output_type": "stream",
          "name": "stdout",
          "text": [
            "+--------------+-----+-------+---+------------------+\n",
            "|          City|State|Country| id|          pagerank|\n",
            "+--------------+-----+-------+---+------------------+\n",
            "|       Atlanta|   GA|    USA|ATL|30.852689637281408|\n",
            "|        Dallas|   TX|    USA|DFW|22.350908251857966|\n",
            "|       Chicago|   IL|    USA|ORD|21.476110490648217|\n",
            "|        Denver|   CO|    USA|DEN|15.864147080276448|\n",
            "|   Los Angeles|   CA|    USA|LAX|14.200409160093672|\n",
            "|       Houston|   TX|    USA|IAH|13.038206739080557|\n",
            "| San Francisco|   CA|    USA|SFO| 11.26295269294737|\n",
            "|       Phoenix|   AZ|    USA|PHX|10.614648412382879|\n",
            "|Salt Lake City|   UT|    USA|SLC| 9.462289209001076|\n",
            "|     Las Vegas|   NV|    USA|LAS|  8.57147332023463|\n",
            "|       Seattle|   WA|    USA|SEA| 7.548959663023092|\n",
            "|        Newark|   NJ|    USA|EWR| 7.180791090543531|\n",
            "|       Orlando|   FL|    USA|MCO|7.1609265476583905|\n",
            "|     Charlotte|   NC|    USA|CLT| 7.143654438927899|\n",
            "|       Detroit|   MI|    USA|DTW| 6.890631890038126|\n",
            "|   Minneapolis|   MN|    USA|MSP| 6.769288843604745|\n",
            "|      New York|   NY|    USA|LGA| 6.737391483201897|\n",
            "|        Boston|   MA|    USA|BOS| 6.219575898669398|\n",
            "|     Baltimore|   MD|    USA|BWI| 5.761252754817863|\n",
            "|      New York|   NY|    USA|JFK| 5.746208511188298|\n",
            "+--------------+-----+-------+---+------------------+\n",
            "only showing top 20 rows\n",
            "\n"
          ]
        }
      ]
    },
    {
      "cell_type": "markdown",
      "id": "fe1e7648",
      "metadata": {
        "id": "fe1e7648"
      },
      "source": [
        "## Determine the most popular flights (single city hops)"
      ]
    },
    {
      "cell_type": "code",
      "execution_count": null,
      "id": "da4b3306",
      "metadata": {
        "colab": {
          "base_uri": "https://localhost:8080/"
        },
        "id": "da4b3306",
        "outputId": "ace01182-412a-43d8-ce8e-547a2aa034bb"
      },
      "outputs": [
        {
          "output_type": "stream",
          "name": "stdout",
          "text": [
            "+---+---+-----+\n",
            "|src|dst|trips|\n",
            "+---+---+-----+\n",
            "|SFO|LAX| 3232|\n",
            "|LAX|SFO| 3198|\n",
            "|LAS|LAX| 3016|\n",
            "|LAX|LAS| 2964|\n",
            "|JFK|LAX| 2720|\n",
            "|LAX|JFK| 2719|\n",
            "|ATL|LGA| 2501|\n",
            "|LGA|ATL| 2500|\n",
            "|LAX|PHX| 2394|\n",
            "|PHX|LAX| 2387|\n",
            "|HNL|OGG| 2380|\n",
            "|OGG|HNL| 2379|\n",
            "|LAX|SAN| 2215|\n",
            "|SAN|LAX| 2214|\n",
            "|SJC|LAX| 2208|\n",
            "|LAX|SJC| 2201|\n",
            "|ATL|MCO| 2136|\n",
            "|MCO|ATL| 2090|\n",
            "|SFO|JFK| 2084|\n",
            "|JFK|SFO| 2084|\n",
            "+---+---+-----+\n",
            "only showing top 20 rows\n",
            "\n"
          ]
        }
      ],
      "source": [
        "import pyspark.sql.functions as func\n",
        "\n",
        "gf1.edges.groupBy(\"src\",\"dst\").agg(func.count(\"delay\").alias(\"trips\")).sort(desc(\"trips\")).show()"
      ]
    },
    {
      "cell_type": "markdown",
      "id": "8ebb5e18",
      "metadata": {
        "id": "8ebb5e18"
      },
      "source": [
        "### Find and Save a Subragph that obtained from the following pattern:\n",
        "#### The flight starts from an airport and return back to the same airport through 2 other airports."
      ]
    },
    {
      "cell_type": "code",
      "execution_count": null,
      "id": "00361946",
      "metadata": {
        "id": "00361946"
      },
      "outputs": [],
      "source": [
        "pattern_gf = gf1.find(\"(v1)-[e1]->(v2); (v2)-[e2]->(v3); (v3)-[e3]->(v1)\")"
      ]
    },
    {
      "cell_type": "code",
      "source": [
        "pattern_gf.printSchema()"
      ],
      "metadata": {
        "colab": {
          "base_uri": "https://localhost:8080/"
        },
        "id": "7K4YWAn50Bea",
        "outputId": "a563f65e-e7bd-47b5-ca79-420efab18ba8"
      },
      "id": "7K4YWAn50Bea",
      "execution_count": null,
      "outputs": [
        {
          "output_type": "stream",
          "name": "stdout",
          "text": [
            "root\n",
            " |-- v1: struct (nullable = false)\n",
            " |    |-- City: string (nullable = true)\n",
            " |    |-- State: string (nullable = true)\n",
            " |    |-- Country: string (nullable = true)\n",
            " |    |-- id: string (nullable = true)\n",
            " |-- e1: struct (nullable = false)\n",
            " |    |-- tripid: integer (nullable = true)\n",
            " |    |-- delay: integer (nullable = true)\n",
            " |    |-- distance: integer (nullable = true)\n",
            " |    |-- src: string (nullable = true)\n",
            " |    |-- dst: string (nullable = true)\n",
            " |-- v2: struct (nullable = false)\n",
            " |    |-- City: string (nullable = true)\n",
            " |    |-- State: string (nullable = true)\n",
            " |    |-- Country: string (nullable = true)\n",
            " |    |-- id: string (nullable = true)\n",
            " |-- e2: struct (nullable = false)\n",
            " |    |-- tripid: integer (nullable = true)\n",
            " |    |-- delay: integer (nullable = true)\n",
            " |    |-- distance: integer (nullable = true)\n",
            " |    |-- src: string (nullable = true)\n",
            " |    |-- dst: string (nullable = true)\n",
            " |-- v3: struct (nullable = false)\n",
            " |    |-- City: string (nullable = true)\n",
            " |    |-- State: string (nullable = true)\n",
            " |    |-- Country: string (nullable = true)\n",
            " |    |-- id: string (nullable = true)\n",
            " |-- e3: struct (nullable = false)\n",
            " |    |-- tripid: integer (nullable = true)\n",
            " |    |-- delay: integer (nullable = true)\n",
            " |    |-- distance: integer (nullable = true)\n",
            " |    |-- src: string (nullable = true)\n",
            " |    |-- dst: string (nullable = true)\n",
            "\n"
          ]
        }
      ]
    },
    {
      "cell_type": "code",
      "source": [
        ""
      ],
      "metadata": {
        "id": "AjgtTWMp0EU_"
      },
      "id": "AjgtTWMp0EU_",
      "execution_count": null,
      "outputs": []
    },
    {
      "cell_type": "code",
      "source": [
        ""
      ],
      "metadata": {
        "id": "iLr9X2472Y67"
      },
      "id": "iLr9X2472Y67",
      "execution_count": null,
      "outputs": []
    }
  ],
  "metadata": {
    "kernelspec": {
      "display_name": "Python 3 (ipykernel)",
      "language": "python",
      "name": "python3"
    },
    "language_info": {
      "codemirror_mode": {
        "name": "ipython",
        "version": 3
      },
      "file_extension": ".py",
      "mimetype": "text/x-python",
      "name": "python",
      "nbconvert_exporter": "python",
      "pygments_lexer": "ipython3",
      "version": "3.9.12"
    },
    "colab": {
      "name": "GraphFrams_P_S__Student.ipynb",
      "provenance": []
    }
  },
  "nbformat": 4,
  "nbformat_minor": 5
}